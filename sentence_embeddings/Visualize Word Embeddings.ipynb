{
 "cells": [
  {
   "cell_type": "code",
   "execution_count": 64,
   "id": "current-anime",
   "metadata": {},
   "outputs": [],
   "source": [
    "# Group sentences by sentence embeddings\n",
    "from sentence_transformers import SentenceTransformer\n",
    "import pandas as pd"
   ]
  },
  {
   "cell_type": "code",
   "execution_count": 65,
   "id": "invisible-house",
   "metadata": {},
   "outputs": [
    {
     "name": "stdout",
     "output_type": "stream",
     "text": [
      "model is loaded\n"
     ]
    }
   ],
   "source": [
    "# Load pretrained model\n",
    "model = SentenceTransformer('paraphrase-distilroberta-base-v1',device='cuda')\n",
    "print(\"model is loaded\")"
   ]
  },
  {
   "cell_type": "code",
   "execution_count": 66,
   "id": "regular-flood",
   "metadata": {},
   "outputs": [
    {
     "name": "stdout",
     "output_type": "stream",
     "text": [
      "sentences are loaded \n"
     ]
    }
   ],
   "source": [
    "# Load Sentences\n",
    "descriptive_df = pd.read_csv('all_eval_with_entity.csv')\n",
    "descriptive_df.loc[:,'entity'] = descriptive_df.entity.apply(lambda x: ast.literal_eval(x)[0])\n",
    "print(\"sentences are loaded \")"
   ]
  },
  {
   "cell_type": "code",
   "execution_count": 67,
   "id": "incoming-external",
   "metadata": {},
   "outputs": [],
   "source": [
    "import csv\n",
    "\n",
    "home_dir = '/home/winnie/tableTennis-product-review'\n",
    "\n",
    "def csv2list(fn):\n",
    "    with open(fn) as f:\n",
    "        reader = csv.reader(f)\n",
    "        d = list(reader)\n",
    "    return [r[0] for r in d]\n",
    "\n",
    "\n",
    "rub_list = csv2list(home_dir+'/information_retrieval/rubber_dictionary/rub_name_list.csv')\n"
   ]
  },
  {
   "cell_type": "code",
   "execution_count": 68,
   "id": "surface-illinois",
   "metadata": {},
   "outputs": [
    {
     "name": "stdout",
     "output_type": "stream",
     "text": [
      "936\n"
     ]
    }
   ],
   "source": [
    "# Filter only rubber-related rows\n",
    "descriptive_df['Rubber_flag'] = False\n",
    "\n",
    "counter = 0\n",
    "for idx,row in descriptive_df.iterrows():\n",
    "    if row.entity in rub_list:\n",
    "        descriptive_df.loc[idx,'Rubber_flag'] = True\n",
    "        counter += 1\n",
    "        \n",
    "print(counter)\n"
   ]
  },
  {
   "cell_type": "code",
   "execution_count": 69,
   "id": "veterinary-budget",
   "metadata": {},
   "outputs": [
    {
     "data": {
      "text/plain": [
       "['Yasaka-Rakza-7',\n",
       " 'Stiga-Mendo-MP',\n",
       " 'JOOLA-Samba-27',\n",
       " 'Donic-Acuda-Blue-P2',\n",
       " 'Xiom-Vega-Def',\n",
       " 'Butterfly-Aibiss',\n",
       " 'DHS-Skyline-2',\n",
       " 'Stiga-Mendo',\n",
       " 'Butterfly-Sriver-G3',\n",
       " 'Andro-Rasant-PowerGrip',\n",
       " 'Donic-Vario-Soft-ST',\n",
       " 'Galaxy-Moon-Speed',\n",
       " 'Andro-Plasma-Women',\n",
       " 'Xiom-Omega-VII-Hyper',\n",
       " 'Tibhar-Rapid',\n",
       " 'Donic-Coppa-JO-Silver',\n",
       " 'Galaxy-Mercury',\n",
       " 'DHS-TNT',\n",
       " 'JOOLA-Maxxx-400',\n",
       " 'JOOLA-Tango-Ultra',\n",
       " 'Tibhar-Aurus-Soft',\n",
       " 'JOOLA-Samba-Tech',\n",
       " 'Tibhar-Nimbus-Delta-S',\n",
       " 'Donic-Coppa-X2-Platin-Soft',\n",
       " 'Donic-Bluefire-M2',\n",
       " 'DHS-Hurricane-3',\n",
       " 'Xiom-True-Innovation-Euro',\n",
       " 'Xiom-Oza',\n",
       " 'Xiom-Omega-V-Tour',\n",
       " 'Donic-Anti-A40-(Anti-spin)',\n",
       " 'Butterfly-Morim',\n",
       " 'Stiga-Neos-Sound',\n",
       " 'Xiom-Omega-3-Asian',\n",
       " 'Andro-Impuls-Speed',\n",
       " 'Andro-Hexer+',\n",
       " 'Tibhar-1Q-XD',\n",
       " 'Donic-Coppa-JO-Platin-Soft',\n",
       " 'Andro-Roxon-330',\n",
       " 'Butterfly-Tenergy-80',\n",
       " 'Tibhar-Genius-Sound',\n",
       " 'Chinese-rubbers',\n",
       " 'Butterfly-Flextra',\n",
       " 'Yasaka-Mark-V',\n",
       " 'Stiga-DNA-Future-M',\n",
       " 'Stiga-Boost-TS',\n",
       " 'Donic-Coppa-JO-Gold',\n",
       " 'Donic-Bluefire-M3',\n",
       " 'DHS-Hurricane-National',\n",
       " 'Donic-BlueGrip-C1',\n",
       " 'Xiom-Tau',\n",
       " 'Andro-Rasanter-R50',\n",
       " 'DHS-Tin-Arc',\n",
       " 'Andro-Rocket-Hard',\n",
       " 'Sanwei-T88',\n",
       " 'Yasaka-Pryde',\n",
       " 'Yasaka-Pryde-40',\n",
       " 'Donic-Solo',\n",
       " 'Donic-Vario-Mach-1',\n",
       " 'Tibhar-Evolution-MX-S',\n",
       " 'Butterfly-Pan-Asia',\n",
       " 'Xiom-Sigma-1-Euro',\n",
       " 'Stiga-Innova-Ultra-Light-SynergyTech',\n",
       " 'Tibhar-5Q-VIP',\n",
       " 'Butterfly-Super-Anti-(Anti-spin)',\n",
       " 'Tibhar-1Q',\n",
       " 'DHS-G888',\n",
       " 'Donic-Coppa-JO',\n",
       " 'Andro-Hexer-Grip-SFX',\n",
       " 'Galaxy-Earth-2',\n",
       " 'Galaxy-Earth',\n",
       " 'Andro-Roxon-500-Pro',\n",
       " 'Stiga-Calibra-Tour-H',\n",
       " 'Galaxy-Jupiter-II',\n",
       " 'JOOLA-Mambo-GP',\n",
       " 'Stiga-Almana-Sound-SynergyTech',\n",
       " 'Donic-Desto-F1',\n",
       " 'Xiom-Omega-V-Euro',\n",
       " 'Donic-Baracuda',\n",
       " 'Galaxy-Sun',\n",
       " 'DHS-NEO-Hurricane-2',\n",
       " 'Tibhar-Volcano',\n",
       " 'Tibhar-5Q-Sound',\n",
       " 'Donic-Vario-Soft',\n",
       " 'Tibhar-Aurus-Prime',\n",
       " 'Donic-Coppa-X1-Turbo-Platin',\n",
       " 'Xiom-Vega-Euro-DF',\n",
       " 'Stiga-Calibra-LT',\n",
       " 'Xiom-Musa-III',\n",
       " 'Tibhar-Learn-Spin',\n",
       " 'Xiom-Omega-2-Euro',\n",
       " 'Donic-Alligator-Anti',\n",
       " 'Donic-Acuda-S1-Turbo',\n",
       " 'Tibhar-Speedy-Spin-FX-Premium',\n",
       " 'Butterfly-Sriver-G2-High-Tune',\n",
       " 'Andro-Plaxon-350',\n",
       " 'Tibhar-Aurus-Sound',\n",
       " 'JOOLA-Phenix-48',\n",
       " 'Andro-Impuls',\n",
       " 'Galaxy-Saturn',\n",
       " 'Andro-Rasanter-R48',\n",
       " 'Andro-Rasanter-V47',\n",
       " 'Yasaka-Zap-Speed',\n",
       " 'Tibhar-Evolution-FX-S',\n",
       " 'Butterfly-Dignics-05',\n",
       " 'Tensor-rubbers',\n",
       " 'Butterfly-Sriver-FX',\n",
       " 'DHS-DHS-Hurricane-8-Mid',\n",
       " 'JOOLA-Upp',\n",
       " 'Tibhar-Vari-Spin-D.TecS',\n",
       " 'Donic-Energy-3000',\n",
       " 'Xiom-Vega-Elite',\n",
       " 'Galaxy-Apollo-II',\n",
       " 'JOOLA-Samba-19',\n",
       " 'DHS-NEO-Hurricane-3',\n",
       " 'JOOLA-Toni-Hold-Anti-Topspin',\n",
       " 'Donic-Traction-II',\n",
       " 'Sanwei-Target-Provincial',\n",
       " 'Butterfly-Rozena',\n",
       " 'Donic-Coppa-JO-Platin',\n",
       " 'DHS-G555',\n",
       " 'Xiom-Sigma-1-Pro',\n",
       " 'Three-Sword-Red-Dragon',\n",
       " 'JOOLA-Maxxx-450',\n",
       " 'Butterfly-Sapphira',\n",
       " 'Sanwei-T88-III',\n",
       " 'DHS-6512',\n",
       " 'Stiga-Carbo-MC',\n",
       " 'JOOLA-Rhyzer-Pro-50',\n",
       " \"Donic-Quattro-A'Conda-Medium\",\n",
       " 'JOOLA-Zack',\n",
       " 'Andro-Revolution-Quad-450',\n",
       " 'Galaxy-Mercury-II',\n",
       " 'Galaxy-Apollo-III',\n",
       " 'JOOLA-Mambo-H-Tuning',\n",
       " 'Stiga-Airoc-S',\n",
       " 'Donic-Twingo',\n",
       " 'Xiom-Musa',\n",
       " 'JOOLA-X-Plode-Sensitive',\n",
       " 'Tibhar-Hybrid-K1',\n",
       " 'Xiom-Zeta-Asian',\n",
       " 'Butterfly-Tenergy-05-Hard',\n",
       " 'Butterfly-Tenergy-25-FX',\n",
       " 'DHS-Skyline-TG3-(No.-21-Blue-Sponge)',\n",
       " 'Yasaka-Rakza-X-Soft',\n",
       " 'Tibhar-Nimbus-Sound',\n",
       " 'Butterfly-Sriver-FX-PowerSponge',\n",
       " 'Stiga-Genesis-II-M',\n",
       " 'DHS-PF4-40+',\n",
       " 'Andro-Zenith-G',\n",
       " 'Stiga-Calibra-LT-Spin',\n",
       " 'Andro-Revolution-Quad-420',\n",
       " 'Tibhar-Torpedo',\n",
       " 'Stiga-Boost-TX',\n",
       " 'Tibhar-Sinus-Sound',\n",
       " 'Andro-Hexer-Grip',\n",
       " 'Tibhar-Grip-S-Europe',\n",
       " 'Stiga-Genesis-II-S',\n",
       " 'Andro-Hexer-Duro',\n",
       " 'Butterfly-Sriver-High-Tune',\n",
       " 'DHS-Gold-Arc-3',\n",
       " 'Butterfly-Tenergy-64',\n",
       " 'Tibhar-Evolution-MX-P',\n",
       " 'Xiom-Omega-IV-Elite',\n",
       " 'Tibhar-Grip-S',\n",
       " 'Butterfly-Bryce-FX-PowerSponge',\n",
       " 'Donic-Quattro-Formula',\n",
       " 'Xiom-Vega-Europe',\n",
       " 'Stiga-Cobra-2000',\n",
       " 'Galaxy-9000-3-Star',\n",
       " 'Donic-JO-Waldner-Legend',\n",
       " 'Yasaka-Pryde-30',\n",
       " 'JOOLA-Orbit-ICU',\n",
       " 'Donic-Bluestorm-Z1',\n",
       " 'Stiga-Calibra-LT-Plus',\n",
       " 'Tibhar-Rookie-D.TecS',\n",
       " 'Butterfly-Tenergy-05',\n",
       " 'Xiom-True-Innovation-Asian',\n",
       " 'Butterfly-Tempest',\n",
       " 'Xiom-Omega-2-Asian',\n",
       " 'Butterfly-Bryce-Hard',\n",
       " 'Tibhar-Aurus-TC-1',\n",
       " 'Donic-Anti-Classic',\n",
       " 'Donic-BlueGrip-V1',\n",
       " 'DHS-NEO-Skyline-3',\n",
       " 'Andro-Revolution-Fire',\n",
       " 'Tibhar-Primus',\n",
       " 'Xiom-Vega-Asia-DF',\n",
       " 'Stiga-Mendo-Energy',\n",
       " 'Xiom-Vega-Japan',\n",
       " 'Stiga-Carbo-Sound',\n",
       " 'JOOLA-Rhyzm-Tech',\n",
       " 'DHS-PF4-1',\n",
       " 'Yasaka-Rakza',\n",
       " 'Stiga-Almana-Sound',\n",
       " 'Butterfly-Ekrips',\n",
       " 'Butterfly-Yuki',\n",
       " 'Sanwei-Target-90',\n",
       " 'Stiga-DNA-Pro-M',\n",
       " 'Tibhar-Speedy-Spin',\n",
       " 'Andro-Upgrade',\n",
       " 'JOOLA-Mambo',\n",
       " 'Xiom-Omega-VII-Asia',\n",
       " 'Butterfly-Solcion',\n",
       " 'Butterfly-SOFT-D13',\n",
       " 'Andro-Shifter',\n",
       " 'Andro-Rasanter',\n",
       " 'Donic-Coppa',\n",
       " 'Tibhar-MX-K-H',\n",
       " 'Tibhar-Ellen',\n",
       " 'Xiom-Musa-II',\n",
       " 'Donic-Bluefire-M1',\n",
       " 'Xiom-Vega-Asia',\n",
       " 'Donic-Gallardo-Power-Sound',\n",
       " 'Donic-Anti-40',\n",
       " 'Donic-Akkadi-Taichi-(Red)',\n",
       " 'DHS-Hurricane-8-Hard',\n",
       " 'Donic-Slice-40',\n",
       " 'Galaxy-Sun-Pro',\n",
       " 'DHS-Hurricane',\n",
       " 'Galaxy-Venus-3',\n",
       " 'Tibhar-1Q-Sound',\n",
       " 'Xiom-Omega-IV-Euro',\n",
       " 'Yasaka-Rakza-9',\n",
       " 'JOOLA-Rhyzer-Pro-45',\n",
       " 'Donic-Bluestorm-Big-Slam',\n",
       " 'Andro-Rasanter-R47',\n",
       " 'Tibhar-Rapid-Soft',\n",
       " 'Tibhar-Legend-Destroyer',\n",
       " 'Tibhar-Phantom',\n",
       " 'Tibhar-Sinus-Alpha',\n",
       " 'Xiom-Sigma-II-Pro',\n",
       " 'JOOLA-Rhyzm-425',\n",
       " 'Andro-Razant',\n",
       " 'ESN-rubbers',\n",
       " 'Yasaka-Rakza-7-Soft',\n",
       " 'Donic-Acuda-Blue-P3',\n",
       " 'DHS-NEO-Skyline-2',\n",
       " 'DHS-Dipper',\n",
       " 'Xiom-Vega-China-VM',\n",
       " 'Butterfly-Largestorm',\n",
       " 'Xiom-Zeta-Euro',\n",
       " 'Sanwei-Target-Europe-40+',\n",
       " 'Butterfly-Dignics-80',\n",
       " 'JOOLA-Phenix-(Phoenix)',\n",
       " 'DHS-Hurricane-Neo-3',\n",
       " 'DHS-Gold-Arc-5',\n",
       " 'Donic-Acuda',\n",
       " 'Xiom-Sigma-1-Japan-Special',\n",
       " 'Andro-Roxon-450',\n",
       " 'Donic-Slice-40-CD',\n",
       " 'JOOLA-Tango',\n",
       " 'Tibhar-Nimbus-Soft',\n",
       " 'Stiga-Innova-Ultra-Light',\n",
       " 'JOOLA-Samba-Klick',\n",
       " 'Tibhar-Nimbus-VIP',\n",
       " 'Tibhar-Speedy-Spin-Premium',\n",
       " 'Tibhar-Makss',\n",
       " 'Donic-Desto-F2',\n",
       " 'Tibhar-Norm',\n",
       " 'Donic-Traction-MS-Soft',\n",
       " 'Tibhar-5Q',\n",
       " 'JOOLA-Maxxx-500',\n",
       " 'Xiom-Omega-V-Asia',\n",
       " 'Donic-Acuda-Blue-P1',\n",
       " 'Butterfly-Tenergy-80-FX',\n",
       " 'Donic-Acuda-S3',\n",
       " 'Tibhar-Karisma',\n",
       " 'Tibhar-Genius',\n",
       " 'JOOLA-Samba+',\n",
       " 'Butterfly-Tenergy-25',\n",
       " 'Yasaka-Rakza-X',\n",
       " 'DHS-Tin-Arc-3',\n",
       " 'DHS-Hurricane-3-Pro',\n",
       " 'Butterfly-Sriver-EL',\n",
       " 'Galaxy-Moon-Pro',\n",
       " 'Donic-Liga',\n",
       " 'DHS-Hurricane-3-50',\n",
       " 'Andro-Rasant-Turbo',\n",
       " 'Butterfly-Spin-Art',\n",
       " 'DHS-Gold-Arc-8',\n",
       " 'Butterfly-Stayer',\n",
       " 'Andro-GTT-40',\n",
       " 'Stiga-Magna-TX',\n",
       " 'Xiom-Omega-1-Euro',\n",
       " 'Tibhar-Nimbus-Delta-V',\n",
       " 'Galaxy-Big-Dipper-IV',\n",
       " 'Tibhar-Super-40-Defense',\n",
       " 'JOOLA-Timeless-(Anti-spin)',\n",
       " 'DHS-Tin-Arc-5-Soft',\n",
       " 'Tibhar-Phantom-X-Press',\n",
       " 'Stiga-Optimum-MP',\n",
       " 'Stiga-Genesis-M',\n",
       " 'Donic-Baracuda-Big-Slam',\n",
       " 'Sanwei-Target-Pro-Blue',\n",
       " 'Stiga-Magna-TS-II-(2)',\n",
       " 'Donic-Acuda-S1',\n",
       " 'Donic-Acuda-Blue-P1-Turbo',\n",
       " 'Donic-Bluefire-JP-01',\n",
       " 'Butterfly-Sriver',\n",
       " 'Stiga-Evo',\n",
       " 'Donic-Coppa-X3-Silver',\n",
       " 'Donic-Blues',\n",
       " 'Butterfly-Dignics',\n",
       " 'JOOLA-Rhyzm-P',\n",
       " 'Butterfly-Bryce-High-Tune',\n",
       " 'Butterfly-Sriver-S',\n",
       " 'DHS-Hurrican-3-Provincial',\n",
       " 'Galaxy-M-Star',\n",
       " 'Butterfly-Gignics',\n",
       " 'Xiom-Sigma-II-Euro',\n",
       " 'DHS-G777',\n",
       " 'Andro-Rasanter-V42',\n",
       " 'Yasaka-Anti-Power-(Anti-spin)',\n",
       " 'Galaxy-Mars',\n",
       " 'Tibhar-Torpedo-Soft',\n",
       " 'JOOLA-Samba',\n",
       " 'Donic-Bluefire-JP-03',\n",
       " 'Xiom-Vega-Europe-Df',\n",
       " 'Tibhar-Nimbus',\n",
       " 'Tibhar-Hybrid-K1-European-Version',\n",
       " 'Three-Sword-Regal-Challenge',\n",
       " 'Stiga-Mantra-S',\n",
       " 'Tibhar-Samurai',\n",
       " 'Butterfly-Bryce-High-Speed',\n",
       " 'Donic-Bluefire-JP-01-Turbo',\n",
       " 'Tibhar-Evolution-EL-S',\n",
       " 'Yasaka-Rakza-Z-Extra-Hard',\n",
       " 'Stiga-Mantra-M',\n",
       " 'JOOLA-Moskito',\n",
       " 'Butterfly-Bryce-FX',\n",
       " 'Stiga-DNA-Pro-S',\n",
       " 'Stiga-Boost-TC',\n",
       " 'Donic-Acuda-S2',\n",
       " 'Butterfly-Sriver-G3-FX',\n",
       " 'Butterfly-Sriver-PowerSponge',\n",
       " 'Tibhar-5Q-Update',\n",
       " 'Donic-Quattro',\n",
       " 'Stiga-Innova-Premium',\n",
       " 'Donic-Vario-Big-Slam',\n",
       " 'DHS-Hurricane-3-50-Soft',\n",
       " 'Sanwei-T88-I',\n",
       " 'Tibhar-MX-K',\n",
       " 'JOOLA-Rhyzm',\n",
       " 'Donic-BlueGrip-R1',\n",
       " 'Xiom-Omega-VII-Tour',\n",
       " 'Sanwei-Target',\n",
       " 'Butterfly-Bryce-PowerSponge',\n",
       " 'Stiga-Magna',\n",
       " 'Stiga-Calibra-LT-Sound',\n",
       " 'Donic-Desto-F4',\n",
       " 'Xiom-Max-Leverage',\n",
       " 'Butterfly-Cermet',\n",
       " 'Xiom-Omega-IV-Pro',\n",
       " 'Andro-Plasma-470',\n",
       " 'Andro-Rasant-Beat',\n",
       " 'JOOLA-Novic',\n",
       " 'Andro-Plasma-430',\n",
       " 'JOOLA-MAXXX-P',\n",
       " 'Donic-Gallardo-Sound',\n",
       " 'Donic-Desto-F3',\n",
       " 'Tibhar-Rapid-X-Press',\n",
       " 'Galaxy-Venus-2',\n",
       " 'Stiga-DNA-Pro-H',\n",
       " 'Andro-Rasanter-R37',\n",
       " 'Stiga-Neos-SynergyTech',\n",
       " 'Butterfly-Tenergy',\n",
       " 'Tibhar-Hybrid-K2',\n",
       " 'Butterfly-Dignics-09C',\n",
       " 'Andro-Rasant-Grip',\n",
       " 'JOOLA-Tango-Golden',\n",
       " 'Tibhar-Super-40-Defense-Soft',\n",
       " 'Donic-Sonex-JP',\n",
       " 'Tibhar-Evolution-EL-P',\n",
       " 'Stiga-Energy-Absorber-(Anti-spin)',\n",
       " 'Sanwei-T88-I-Light',\n",
       " 'DHS-Hurricane-Neo-3-Provisional',\n",
       " 'Andro-Rocket-Medium',\n",
       " 'Stiga-Neos-Sound-SynergyTech',\n",
       " 'Galaxy-9000D',\n",
       " 'JOOLA-Moskito-S35',\n",
       " 'Xiom-Omega-IV',\n",
       " 'Andro-Hexer-Powersponge',\n",
       " 'Andro-Hexer-Powergrip-SFX',\n",
       " 'Stiga-Airoc-Astro-S',\n",
       " 'Tibhar-Quantum',\n",
       " 'Stiga-Vaporizer',\n",
       " 'DHS-Gold-Arc',\n",
       " 'Tibhar-Quantum-X',\n",
       " 'Donic-QRC-Rubber-7000-Liga',\n",
       " 'Andro-Plasma-380',\n",
       " 'Xiom-Musa-III-China',\n",
       " 'Tibhar-Quantum-X-Pro',\n",
       " 'Donic-Coppa-X1-Gold',\n",
       " 'Donic-Akkadi-Taichi',\n",
       " 'Donic-Bluefire',\n",
       " 'Tibhar-Nianmor',\n",
       " \"Donic-Quattro-A'Conda-Soft\",\n",
       " 'Donic-Bluefire-Big-Slam',\n",
       " 'Three-Sword-Leap-Pro-(National-Blue-Sponge)',\n",
       " 'Stiga-Airoc-Astro-M',\n",
       " 'Sanwei-Ultraspin-T88',\n",
       " 'Andro-Revo-Fire',\n",
       " 'Butterfly-Roundell-Hard',\n",
       " 'DHS-Hurricane-3-National',\n",
       " 'Xiom-Vega-Tour',\n",
       " 'Xiom-Vega-X',\n",
       " 'Xiom-Omega-China-Ying',\n",
       " 'Xiom-Omega-VII-Euro',\n",
       " 'JOOLA-X-Plode',\n",
       " 'Yasaka-Zap-Spin',\n",
       " 'DHS-Hurricane-2',\n",
       " 'Butterfly-Bryce-Speed-FX',\n",
       " 'Andro-Impuls-Powersponge',\n",
       " 'Xiom-Vega-Pro',\n",
       " 'Andro-Plaxon-525',\n",
       " 'Yasaka-Rakza-Z',\n",
       " 'Andro-Rocket-Soft',\n",
       " 'Donic-Vario-Sound',\n",
       " 'Stiga-Innova',\n",
       " 'Donic-Coppa-Speed',\n",
       " 'Stiga-Carbo',\n",
       " 'Andro-Hexer-Powergrip',\n",
       " 'Tibhar-Rapid-D.TecS',\n",
       " 'Tibhar-Nimbus-Medium',\n",
       " 'Galaxy-Saturn-Pro',\n",
       " 'Galaxy-Apollo-5',\n",
       " 'Andro-Hexer-HD',\n",
       " 'Butterfly-Ekrips-Soft',\n",
       " 'Sanwei-T88-III-2',\n",
       " 'Yasaka-Fusion',\n",
       " 'Tibhar-Bungee',\n",
       " 'Tibhar-Aurus',\n",
       " 'Galaxy-Apollo',\n",
       " 'Stiga-Neos',\n",
       " 'Stiga-Mantra-H',\n",
       " 'Donic-Coppa-Tenero',\n",
       " 'Andro-Rasant-Chaos',\n",
       " 'Tibhar-Genius-Supreme',\n",
       " 'Tibhar-Genius+-Optimum-Sound',\n",
       " 'Tibhar-Genius+-Optimum',\n",
       " 'Andro-Rasanter-R53',\n",
       " 'Butterfly-Tenergy-64-FX',\n",
       " 'Donic-Desto-F1-Plus',\n",
       " 'DHS-Dipper-3',\n",
       " 'Butterfly-Sriver-G2-FX',\n",
       " 'Donic-Gallardo-Speed',\n",
       " 'Xiom-Vega-Intro',\n",
       " 'Tibhar-Quantum-S',\n",
       " 'Donic-Vario',\n",
       " 'Andro-Revolution',\n",
       " 'Andro-Rasant-Powersponge',\n",
       " 'Stiga-Magna-TC-II-(2)',\n",
       " 'Donic-Bluefire-JP-02',\n",
       " 'Sanwei-Taiji-Plus',\n",
       " 'Xiom-Yanus-DF',\n",
       " 'Stiga-Calibra-Tour-M',\n",
       " 'Tibhar-Hybrid-K1-Plus',\n",
       " 'Butterfly-Super-Anti-Special-(Anti-spin)',\n",
       " 'Galaxy-Moon',\n",
       " 'DHS-Dipper-2',\n",
       " 'DHS-PF4',\n",
       " 'Andro-GTT-45',\n",
       " 'DHS-Hurricane-8',\n",
       " 'Stiga-Airoc-M',\n",
       " 'Galaxy-Jupiter',\n",
       " 'Andro-Rasant',\n",
       " 'Stiga-China-Extreme',\n",
       " 'Butterfly-Addoy',\n",
       " 'Sanwei-Target-National',\n",
       " 'Donic-Supersonic-S40',\n",
       " 'Butterfly-Tenergy-05-FX',\n",
       " 'Butterfly-Bryce-Speed',\n",
       " 'Tibhar-Grip-S-Europe-Soft',\n",
       " 'Tibhar-Evolution-FX-P',\n",
       " 'Xiom-Omega-V-Pro',\n",
       " 'JOOLA-Mambo-Tuning',\n",
       " 'Tibhar-Rapid-D.-TecS-Soft',\n",
       " 'Butterfly-Sriver-L',\n",
       " 'Galaxy-Mercury-III-EURO',\n",
       " 'Andro-Hexer',\n",
       " 'DHS-Skyline',\n",
       " 'JOOLA-Samba-NTEC',\n",
       " 'Donic-BlueGrip-C2',\n",
       " 'Stiga-Calibra-Tour-S',\n",
       " 'Xiom-Omega-1-Asian',\n",
       " 'Stiga-Almana',\n",
       " 'JOOLA-Tango-Defensive',\n",
       " 'DHS-G666',\n",
       " 'Donic-Sonex-JP-Gold',\n",
       " 'Donic-Liga-Plus',\n",
       " 'Butterfly-Dignics-64',\n",
       " 'Butterfly-Wakaba',\n",
       " 'Donic-Sonex-JP-Soft',\n",
       " 'Butterfly-Roundell-Soft',\n",
       " 'Galaxy-9000-Series-2',\n",
       " 'DHS-Tin-Arc-5',\n",
       " 'Yasaka-GP-Extenze',\n",
       " 'Xiom-Musa-1',\n",
       " 'Andro-Rasanter-R42',\n",
       " 'DHS-PF4-New',\n",
       " 'DHS-Dhs-C7',\n",
       " 'Stiga-Boost-TP',\n",
       " 'Andro-Plaxon-400',\n",
       " 'Donic-Akkadi-Java',\n",
       " 'JOOLA-Rhyzer-43',\n",
       " 'Andro-Plaxon-450',\n",
       " 'Sanwei-T88-TAIJI',\n",
       " 'Stiga-Power-LT',\n",
       " 'Tibhar-Legend',\n",
       " 'Tibhar-Vari-Spin',\n",
       " 'JOOLA-Moskito-M40',\n",
       " 'Donic-Bluestorm-Z3',\n",
       " 'DHS-Skyline-TG3',\n",
       " 'Butterfly-Roundell',\n",
       " 'Donic-Vario-ST-(Tuned)',\n",
       " 'Galaxy-Big-Dipper',\n",
       " 'JOOLA-Terminator',\n",
       " 'Donic-Twingo-Plus',\n",
       " 'Sanwei-T88-II',\n",
       " 'JOOLA-Mambo-H',\n",
       " 'Xiom-Omega-3-Euro',\n",
       " 'Donic-Desto-F3-Big-Slam',\n",
       " 'Tibhar-Nianmor-Soft',\n",
       " 'JOOLA-Mambo-C',\n",
       " 'DHS-Tin-Arc-3-Soft',\n",
       " 'Stiga-Genesis-S',\n",
       " 'Andro-Shifter-PowerSponge',\n",
       " 'Tibhar-Aurus-Select',\n",
       " 'Donic-Desto-F1-HS',\n",
       " 'Andro-Revolution-Quad-480',\n",
       " 'Stiga-Neos-Tacky',\n",
       " 'Xiom-Omega-VII-Pro',\n",
       " 'JOOLA-Tango-Extrem',\n",
       " 'Xiom-Omega-IV-Asia',\n",
       " 'Tibhar-Sinus',\n",
       " 'Butterfly-Sriver-G2',\n",
       " 'Donic-66GS',\n",
       " 'Galaxy-Venus',\n",
       " 'Donic-Vario-Cooper-S',\n",
       " 'Andro-Maxcell-SuperSponge',\n",
       " 'Donic-J.O.-Waldner',\n",
       " 'Donic-Coppa-Tagora',\n",
       " 'Donic-Bluestorm-Z2',\n",
       " 'JOOLA-Rhyzm-375',\n",
       " 'Stiga-Chop-&-Drive',\n",
       " 'JOOLA-Rhyzer-48',\n",
       " 'Tibhar-Evolution',\n",
       " 'JOOLA-Spring-Thunder',\n",
       " 'Yasaka-New-Era',\n",
       " 'Xiom-Vega-China-VH',\n",
       " 'Donic-Bluestorm-Z1-Turbo',\n",
       " 'Donic-Bluefire-M1-Turbo',\n",
       " 'Butterfly-Wakaba-D-13',\n",
       " 'Butterfly-Bryce',\n",
       " 'Galaxy-9000E',\n",
       " 'Galaxy-Mars-V2',\n",
       " 'Donic-Traction-MS-Pro',\n",
       " 'Tibhar-Evolution-MX-P-50']"
      ]
     },
     "execution_count": 69,
     "metadata": {},
     "output_type": "execute_result"
    }
   ],
   "source": [
    "rub_list"
   ]
  },
  {
   "cell_type": "code",
   "execution_count": 70,
   "id": "corrected-setup",
   "metadata": {},
   "outputs": [],
   "source": [
    "descriptive_df = descriptive_df[descriptive_df['Rubber_flag']==True].reset_index()\n",
    "sentences = descriptive_df.reply_split\n"
   ]
  },
  {
   "cell_type": "code",
   "execution_count": 71,
   "id": "charming-diameter",
   "metadata": {},
   "outputs": [
    {
     "data": {
      "text/html": [
       "<div>\n",
       "<style scoped>\n",
       "    .dataframe tbody tr th:only-of-type {\n",
       "        vertical-align: middle;\n",
       "    }\n",
       "\n",
       "    .dataframe tbody tr th {\n",
       "        vertical-align: top;\n",
       "    }\n",
       "\n",
       "    .dataframe thead th {\n",
       "        text-align: right;\n",
       "    }\n",
       "</style>\n",
       "<table border=\"1\" class=\"dataframe\">\n",
       "  <thead>\n",
       "    <tr style=\"text-align: right;\">\n",
       "      <th></th>\n",
       "      <th>index</th>\n",
       "      <th>id</th>\n",
       "      <th>reply_split</th>\n",
       "      <th>entity</th>\n",
       "      <th>Rubber_flag</th>\n",
       "    </tr>\n",
       "  </thead>\n",
       "  <tbody>\n",
       "    <tr>\n",
       "      <th>0</th>\n",
       "      <td>1</td>\n",
       "      <td>5f686bdbb59794ca78c7090b</td>\n",
       "      <td>I found that t05 is very sensitive to incoming...</td>\n",
       "      <td>Butterfly-Tenergy-05</td>\n",
       "      <td>True</td>\n",
       "    </tr>\n",
       "    <tr>\n",
       "      <th>1</th>\n",
       "      <td>2</td>\n",
       "      <td>5f686bdbb59794ca78c7090b</td>\n",
       "      <td>If you like to push and spin aggressively, the...</td>\n",
       "      <td>Butterfly-Tenergy-05</td>\n",
       "      <td>True</td>\n",
       "    </tr>\n",
       "    <tr>\n",
       "      <th>2</th>\n",
       "      <td>3</td>\n",
       "      <td>5f686c4cb59794ca78c70952</td>\n",
       "      <td>I would say that t80 is very fast.</td>\n",
       "      <td>Butterfly-Tenergy-80</td>\n",
       "      <td>True</td>\n",
       "    </tr>\n",
       "    <tr>\n",
       "      <th>3</th>\n",
       "      <td>4</td>\n",
       "      <td>5f686c4cb59794ca78c70952</td>\n",
       "      <td>I wouldn't say that T80 is good for playing cl...</td>\n",
       "      <td>Butterfly-Tenergy-80</td>\n",
       "      <td>True</td>\n",
       "    </tr>\n",
       "    <tr>\n",
       "      <th>4</th>\n",
       "      <td>5</td>\n",
       "      <td>5f686c4cb59794ca78c70952</td>\n",
       "      <td>When i was using The sriver in seemed to be al...</td>\n",
       "      <td>Butterfly-Sriver</td>\n",
       "      <td>True</td>\n",
       "    </tr>\n",
       "  </tbody>\n",
       "</table>\n",
       "</div>"
      ],
      "text/plain": [
       "   index                        id  \\\n",
       "0      1  5f686bdbb59794ca78c7090b   \n",
       "1      2  5f686bdbb59794ca78c7090b   \n",
       "2      3  5f686c4cb59794ca78c70952   \n",
       "3      4  5f686c4cb59794ca78c70952   \n",
       "4      5  5f686c4cb59794ca78c70952   \n",
       "\n",
       "                                         reply_split                entity  \\\n",
       "0  I found that t05 is very sensitive to incoming...  Butterfly-Tenergy-05   \n",
       "1  If you like to push and spin aggressively, the...  Butterfly-Tenergy-05   \n",
       "2                 I would say that t80 is very fast.  Butterfly-Tenergy-80   \n",
       "3  I wouldn't say that T80 is good for playing cl...  Butterfly-Tenergy-80   \n",
       "4  When i was using The sriver in seemed to be al...      Butterfly-Sriver   \n",
       "\n",
       "   Rubber_flag  \n",
       "0         True  \n",
       "1         True  \n",
       "2         True  \n",
       "3         True  \n",
       "4         True  "
      ]
     },
     "execution_count": 71,
     "metadata": {},
     "output_type": "execute_result"
    }
   ],
   "source": [
    "descriptive_df.head()"
   ]
  },
  {
   "cell_type": "code",
   "execution_count": 72,
   "id": "looking-shepherd",
   "metadata": {
    "scrolled": true
   },
   "outputs": [
    {
     "name": "stdout",
     "output_type": "stream",
     "text": [
      "(936, 768)\n"
     ]
    }
   ],
   "source": [
    "# Transform sentence into sentence_embeddings\n",
    "sentence_embeddings = model.encode(sentences,device='cuda',batch_size=32)\n",
    "print(sentence_embeddings.shape)"
   ]
  },
  {
   "cell_type": "code",
   "execution_count": 73,
   "id": "round-comedy",
   "metadata": {},
   "outputs": [],
   "source": [
    "from sklearn.manifold import TSNE\n",
    "two_dim_vector = TSNE(n_components = 2, \n",
    "                      random_state=0, \n",
    "                      perplexity = 5, \n",
    "                      learning_rate = 500, \n",
    "                      n_iter = 10000).fit_transform(sentence_embeddings)[:,:2]"
   ]
  },
  {
   "cell_type": "code",
   "execution_count": 74,
   "id": "retained-listening",
   "metadata": {},
   "outputs": [
    {
     "data": {
      "text/plain": [
       "(936, 2)"
      ]
     },
     "execution_count": 74,
     "metadata": {},
     "output_type": "execute_result"
    }
   ],
   "source": [
    "two_dim_vector.shape"
   ]
  },
  {
   "cell_type": "code",
   "execution_count": 76,
   "id": "computational-capacity",
   "metadata": {},
   "outputs": [],
   "source": [
    "import ast"
   ]
  },
  {
   "cell_type": "code",
   "execution_count": 78,
   "id": "jewish-receipt",
   "metadata": {},
   "outputs": [],
   "source": [
    "components_df = pd.DataFrame({'entity':descriptive_df.entity,\n",
    "             'dim1': two_dim_vector[:,0],\n",
    "             'dim2': two_dim_vector[:,1]})"
   ]
  },
  {
   "cell_type": "code",
   "execution_count": 81,
   "id": "polyphonic-diagnosis",
   "metadata": {
    "scrolled": true
   },
   "outputs": [],
   "source": [
    "color_dict = {}\n",
    "\n",
    "for i,rubber in enumerate(list(components_df.entity.value_counts()[:20].index)):\n",
    "    color_dict[rubber] = i\n"
   ]
  },
  {
   "cell_type": "code",
   "execution_count": 83,
   "id": "dynamic-maintenance",
   "metadata": {},
   "outputs": [],
   "source": [
    "components_df['color_idx'] = components_df.entity.apply(lambda x: color_dict.get(x,20))"
   ]
  },
  {
   "cell_type": "code",
   "execution_count": 88,
   "id": "documentary-prior",
   "metadata": {},
   "outputs": [],
   "source": [
    "short_df = components_df[components_df['color_idx'] <20]"
   ]
  },
  {
   "cell_type": "code",
   "execution_count": null,
   "id": "continental-south",
   "metadata": {},
   "outputs": [],
   "source": [
    "import matplotlib.pyplot as plt"
   ]
  },
  {
   "cell_type": "code",
   "execution_count": 84,
   "id": "collective-hungarian",
   "metadata": {},
   "outputs": [
    {
     "data": {
      "image/png": "[encoded data removed]",
      "text/plain": [
       "<Figure size 432x288 with 1 Axes>"
      ]
     },
     "metadata": {
      "needs_background": "light"
     },
     "output_type": "display_data"
    }
   ],
   "source": [
    "plt.scatter(components_df.dim1, components_df.dim2,c=components_df.color_idx)\n",
    "\n",
    "#for idx,row in components_df.iterrows():\n",
    "#    label, x, y = row[0],row[1],row[2]\n",
    "#    plt.annotate(label, xy=(x, y), xytext=(0, 0), textcoords='offset points')\n",
    "plt.xlim(components_df.dim1.min(), 170)\n",
    "plt.ylim(components_df.dim2.min()-1, components_df.dim2.max()+1)\n",
    "plt.show()"
   ]
  },
  {
   "cell_type": "code",
   "execution_count": 89,
   "id": "literary-qatar",
   "metadata": {},
   "outputs": [
    {
     "data": {
      "application/vnd.plotly.v1+json": {
       "config": {
        "plotlyServerURL": "https://plot.ly"
       },
       "data": [
        {
         "hovertemplate": "color=Butterfly-Tenergy-05<br>x=%{x}<br>y=%{y}<extra></extra>",
         "legendgroup": "Butterfly-Tenergy-05",
         "marker": {
          "color": "#636efa",
          "symbol": "circle"
         },
         "mode": "markers",
         "name": "Butterfly-Tenergy-05",
         "orientation": "v",
         "showlegend": true,
         "type": "scatter",
         "x": [
          -41.59170150756836,
          -39.629459381103516,
          8.11048412322998,
          52.309024810791016,
          10.989690780639648,
          15.400367736816406,
          -18.5662841796875,
          -54.00202178955078,
          1.7772929668426514,
          10.226578712463379,
          81.44497680664062,
          -4.773909568786621,
          -15.979854583740234,
          -20.16082763671875,
          -5.230447292327881,
          -46.55897903442383,
          -26.356889724731445,
          -43.40346908569336,
          -44.81928634643555,
          -31.07486915588379,
          3.2214295864105225,
          3.89691162109375,
          -31.708681106567383,
          -53.75839614868164,
          -27.275691986083984,
          -30.3651065826416,
          -30.788076400756836,
          -43.64601516723633,
          3.704941749572754,
          -0.09750711917877197,
          6.561244964599609,
          7.355299949645996,
          -30.297807693481445,
          -45.9544563293457,
          -18.126779556274414,
          54.93855667114258,
          7.693634033203125,
          -35.29616928100586,
          -23.092763900756836,
          -35.600406646728516,
          -22.534440994262695,
          -29.595733642578125,
          -39.7244987487793,
          16.40378189086914,
          -19.538028717041016,
          -52.91804122924805,
          2.4378981590270996,
          10.612942695617676,
          80.3947982788086,
          -3.716657876968384,
          2.831099510192871,
          -31.905866622924805,
          -16.807079315185547,
          -20.721248626708984,
          -45.47050094604492,
          -25.365161895751953,
          6.02090311050415,
          -44.203529357910156,
          -43.288108825683594,
          -46.757545471191406,
          -13.671411514282227,
          -41.40584945678711,
          -30.88678741455078,
          -29.402162551879883,
          -12.288084030151367,
          -63.78898239135742,
          -18.655590057373047,
          -35.90180969238281,
          -19.222732543945312,
          -87.18205261230469,
          -20.449445724487305,
          -12.470033645629883,
          -22.792966842651367,
          -33.60529708862305,
          -45.02594757080078,
          -37.138999938964844,
          53.95680618286133,
          51.97734069824219,
          -18.614370346069336,
          -34.859310150146484,
          -39.99900436401367,
          -45.67013168334961,
          -29.381019592285156,
          -26.760515213012695,
          -32.84574508666992,
          22.248035430908203,
          -35.44704818725586,
          -37.3339729309082,
          -24.734451293945312
         ],
         "xaxis": "x",
         "y": [
          121.02484893798828,
          124.0186996459961,
          101.98397064208984,
          71.13280487060547,
          97.9649658203125,
          -90.35785675048828,
          29.099172592163086,
          117.26341247558594,
          97.52115631103516,
          92.63175201416016,
          91.1611557006836,
          31.672693252563477,
          127.57051849365234,
          106.22220611572266,
          34.727848052978516,
          140.76443481445312,
          147.58775329589844,
          113.24032592773438,
          149.28968811035156,
          19.325237274169922,
          102.86042022705078,
          101.31761169433594,
          108.92826080322266,
          120.1816635131836,
          22.302146911621094,
          124.31927490234375,
          118.30241394042969,
          150.37509155273438,
          105.91842651367188,
          95.61968231201172,
          106.1247787475586,
          100.71770477294922,
          122.95463562011719,
          114.9156723022461,
          125.87744140625,
          72.10481262207031,
          92.28199005126953,
          131.7509765625,
          106.36034393310547,
          117.50904846191406,
          125.36376953125,
          119.67847442626953,
          128.8839111328125,
          -89.9366683959961,
          28.607383728027344,
          117.34978485107422,
          96.66111755371094,
          93.62442779541016,
          90.87496948242188,
          31.795438766479492,
          106.9400863647461,
          101.35066223144531,
          128.23690795898438,
          105.35484313964844,
          140.70477294921875,
          148.0350341796875,
          98.719482421875,
          112.57777404785156,
          148.8172607421875,
          121.67353820800781,
          131.3282012939453,
          122.1645278930664,
          129.36598205566406,
          17.630584716796875,
          124.962158203125,
          -19.161840438842773,
          130.70167541503906,
          129.13084411621094,
          103.24510192871094,
          9.971017837524414,
          132.3166046142578,
          132.7278289794922,
          124.2159194946289,
          106.8064956665039,
          126.16567993164062,
          128.1768035888672,
          69.99653625488281,
          67.98230743408203,
          108.30782318115234,
          106.95143127441406,
          114.93302154541016,
          123.66451263427734,
          131.48793029785156,
          118.47947692871094,
          104.02687072753906,
          11.819663047790527,
          126.74141693115234,
          116.39559173583984,
          117.50336456298828
         ],
         "yaxis": "y"
        },
        {
         "hovertemplate": "color=Butterfly-Sriver<br>x=%{x}<br>y=%{y}<extra></extra>",
         "legendgroup": "Butterfly-Sriver",
         "marker": {
          "color": "#EF553B",
          "symbol": "circle"
         },
         "mode": "markers",
         "name": "Butterfly-Sriver",
         "orientation": "v",
         "showlegend": true,
         "type": "scatter",
         "x": [
          22.322509765625,
          52.38507843017578,
          48.47924041748047,
          40.82616424560547,
          54.359806060791016,
          37.792724609375,
          86.2629623413086,
          41.08295440673828,
          53.17676544189453,
          49.45966339111328,
          39.09616470336914,
          47.85765838623047,
          39.74921417236328
         ],
         "xaxis": "x",
         "y": [
          75.33855438232422,
          -97.85326385498047,
          -103.69271087646484,
          -66.70883178710938,
          -99.02928924560547,
          -78.79828643798828,
          20.489269256591797,
          -71.36593627929688,
          -97.08142852783203,
          -104.1642074584961,
          -78.30301666259766,
          -106.2671127319336,
          -66.86035919189453
         ],
         "yaxis": "y"
        },
        {
         "hovertemplate": "color=Butterfly-Tenergy<br>x=%{x}<br>y=%{y}<extra></extra>",
         "legendgroup": "Butterfly-Tenergy",
         "marker": {
          "color": "#00cc96",
          "symbol": "circle"
         },
         "mode": "markers",
         "name": "Butterfly-Tenergy",
         "orientation": "v",
         "showlegend": true,
         "type": "scatter",
         "x": [
          51.806758880615234,
          55.958030700683594,
          50.282325744628906,
          55.578948974609375,
          50.584320068359375,
          54.410640716552734,
          62.96890640258789,
          38.34848403930664,
          47.602333068847656,
          40.311485290527344,
          -30.01719856262207,
          50.775508880615234,
          64.11091613769531,
          57.85433578491211,
          44.575416564941406,
          19.402217864990234,
          54.23848342895508,
          57.17409133911133,
          55.81866455078125,
          -24.990074157714844,
          56.331607818603516,
          55.39863967895508,
          47.09471893310547,
          36.27288818359375,
          22.973793029785156,
          36.9675178527832,
          36.283626556396484,
          38.91824722290039,
          -127.09735870361328,
          45.47514724731445,
          53.17509460449219,
          3.1631839275360107,
          53.20806884765625,
          22.92325782775879,
          36.73480987548828,
          55.60795593261719,
          30.903207778930664,
          50.61632537841797,
          63.64303970336914,
          -109.93280029296875,
          58.38379669189453,
          53.95027160644531,
          43.66680908203125,
          19.386171340942383,
          55.08236312866211,
          35.12830352783203,
          56.41219711303711,
          38.50345993041992,
          58.253883361816406,
          -53.53145980834961,
          23.511274337768555,
          47.67722702026367,
          35.96040344238281,
          38.45024490356445,
          44.82291030883789,
          39.736976623535156,
          39.03549575805664,
          -22.685869216918945,
          34.22709655761719,
          34.43925857543945,
          28.298995971679688,
          45.806087493896484,
          48.89371871948242,
          43.078956604003906,
          -0.3094281554222107,
          48.51423263549805,
          37.615394592285156,
          58.09418487548828,
          37.00443649291992,
          42.38353729248047,
          42.8736572265625,
          60.05636978149414,
          45.408966064453125,
          26.925153732299805,
          57.248435974121094
         ],
         "xaxis": "x",
         "y": [
          136.9552459716797,
          142.31301879882812,
          136.45045471191406,
          140.75430297851562,
          138.02769470214844,
          141.88743591308594,
          102.35889434814453,
          98.40042877197266,
          98.06477355957031,
          87.74408721923828,
          48.15789794921875,
          84.80329895019531,
          82.9035415649414,
          46.50042724609375,
          114.25602722167969,
          115.64496612548828,
          119.47836303710938,
          102.86028289794922,
          73.09075164794922,
          40.15980529785156,
          118.0272445678711,
          48.79309844970703,
          100.27100372314453,
          115.28333282470703,
          83.73827362060547,
          119.06253814697266,
          102.64484405517578,
          5.955504417419434,
          -43.296607971191406,
          116.44966125488281,
          122.00823974609375,
          -42.57439041137695,
          100.68426513671875,
          80.83463287353516,
          116.78557586669922,
          102.88858032226562,
          105.44232940673828,
          85.87904357910156,
          81.92171478271484,
          69.19928741455078,
          47.43574142456055,
          50.33116149902344,
          114.87053680419922,
          116.73416137695312,
          120.17728424072266,
          113.48262023925781,
          101.4879379272461,
          86.49415588378906,
          81.92229461669922,
          63.001312255859375,
          -24.642545700073242,
          84.88470458984375,
          87.03117370605469,
          81.91480255126953,
          103.5070571899414,
          79.40807342529297,
          78.39786529541016,
          40.14057159423828,
          102.52642059326172,
          110.91832733154297,
          84.33317565917969,
          108.80158233642578,
          112.46762084960938,
          100.61212158203125,
          29.953134536743164,
          107.00078582763672,
          99.95755767822266,
          84.63793182373047,
          105.03341674804688,
          104.44234466552734,
          109.7070083618164,
          85.66575622558594,
          107.6530990600586,
          84.05162048339844,
          85.72390747070312
         ],
         "yaxis": "y"
        },
        {
         "hovertemplate": "color=Donic-Baracuda<br>x=%{x}<br>y=%{y}<extra></extra>",
         "legendgroup": "Donic-Baracuda",
         "marker": {
          "color": "#ab63fa",
          "symbol": "circle"
         },
         "mode": "markers",
         "name": "Donic-Baracuda",
         "orientation": "v",
         "showlegend": true,
         "type": "scatter",
         "x": [
          106.08595275878906,
          111.59552764892578,
          106.29837799072266,
          110.0301513671875,
          107.54518127441406,
          111.09952545166016,
          99.33606719970703,
          97.05069732666016,
          101.876953125,
          100.81196594238281,
          -35.857261657714844,
          105.65223693847656,
          114.24103546142578,
          98.58621978759766,
          94.98307037353516,
          89.57910919189453,
          104.67654418945312,
          113.82273864746094,
          97.8110580444336,
          98.53519439697266,
          96.20297241210938
         ],
         "xaxis": "x",
         "y": [
          -123.23789978027344,
          -138.5939178466797,
          -121.63951873779297,
          -138.26316833496094,
          -122.60979461669922,
          -137.0751495361328,
          -118.50165557861328,
          -121.14502716064453,
          -116.46846771240234,
          -119.64822387695312,
          -9.307476043701172,
          -109.62855529785156,
          -124.580078125,
          -116.42084503173828,
          -119.41275787353516,
          -106.51065826416016,
          -109.13883209228516,
          -125.59225463867188,
          -114.46581268310547,
          -120.08585357666016,
          -123.5018081665039
         ],
         "yaxis": "y"
        },
        {
         "hovertemplate": "color=Tibhar-Evolution-MX-P<br>x=%{x}<br>y=%{y}<extra></extra>",
         "legendgroup": "Tibhar-Evolution-MX-P",
         "marker": {
          "color": "#FFA15A",
          "symbol": "circle"
         },
         "mode": "markers",
         "name": "Tibhar-Evolution-MX-P",
         "orientation": "v",
         "showlegend": true,
         "type": "scatter",
         "x": [
          -93.5421142578125,
          79.1961441040039,
          67.51069641113281,
          -77.76964569091797,
          -92.15975189208984,
          -103.17915344238281,
          -102.36499786376953,
          79.3490219116211,
          67.18569946289062,
          -94.90190124511719,
          -79.60232543945312,
          -95.84754943847656,
          -9.775626182556152,
          -75.09335327148438,
          -105.56338500976562,
          -96.51573181152344,
          -73.88138580322266,
          -76.69876098632812,
          -89.739013671875,
          -67.17453002929688,
          -101.93219757080078,
          -91.74557495117188,
          -88.54363250732422,
          -91.47869873046875
         ],
         "xaxis": "x",
         "y": [
          14.716815948486328,
          -26.425806045532227,
          37.89764404296875,
          -10.991142272949219,
          13.806192398071289,
          17.21729278564453,
          22.58745574951172,
          -27.497098922729492,
          36.8973503112793,
          19.236886978149414,
          -10.80436897277832,
          15.487298011779785,
          125.61624908447266,
          3.2137606143951416,
          16.609336853027344,
          12.11142635345459,
          2.82886004447937,
          -0.3443165719509125,
          -6.767388820648193,
          -9.860841751098633,
          20.79569435119629,
          40.7662353515625,
          17.408323287963867,
          17.301651000976562
         ],
         "yaxis": "y"
        },
        {
         "hovertemplate": "color=DHS-Hurricane-2<br>x=%{x}<br>y=%{y}<extra></extra>",
         "legendgroup": "DHS-Hurricane-2",
         "marker": {
          "color": "#19d3f3",
          "symbol": "circle"
         },
         "mode": "markers",
         "name": "DHS-Hurricane-2",
         "orientation": "v",
         "showlegend": true,
         "type": "scatter",
         "x": [
          -129.16871643066406,
          -23.55394744873047,
          -21.5583438873291,
          -23.142805099487305,
          -23.246826171875,
          -54.23771667480469,
          -24.36734390258789,
          -20.182636260986328,
          -53.23222351074219,
          -23.901073455810547
         ],
         "xaxis": "x",
         "y": [
          -42.335960388183594,
          -56.263004302978516,
          -57.0343017578125,
          -38.369441986083984,
          -35.92887496948242,
          -82.04483795166016,
          -50.209564208984375,
          11.732160568237305,
          -78.30284881591797,
          -49.066829681396484
         ],
         "yaxis": "y"
        },
        {
         "hovertemplate": "color=Tensor-rubbers<br>x=%{x}<br>y=%{y}<extra></extra>",
         "legendgroup": "Tensor-rubbers",
         "marker": {
          "color": "#FF6692",
          "symbol": "circle"
         },
         "mode": "markers",
         "name": "Tensor-rubbers",
         "orientation": "v",
         "showlegend": true,
         "type": "scatter",
         "x": [
          -18.092403411865234,
          -59.01727294921875,
          2.9698922634124756,
          -38.27690505981445,
          -49.54618453979492,
          48.748985290527344,
          34.97484588623047,
          38.88043212890625,
          9.688305854797363,
          69.55902862548828,
          -87.70816802978516,
          39.447059631347656,
          -50.638980865478516,
          47.662864685058594,
          41.02675247192383,
          34.04902267456055,
          39.62895965576172,
          8.069762229919434,
          8.988648414611816
         ],
         "xaxis": "x",
         "y": [
          98.9297103881836,
          -38.13979721069336,
          -43.82350158691406,
          68.72015380859375,
          93.11969757080078,
          39.94933319091797,
          31.78921890258789,
          39.01662063598633,
          -32.179378509521484,
          41.114315032958984,
          27.27779197692871,
          25.15656089782715,
          93.07689666748047,
          39.86446762084961,
          27.874561309814453,
          31.219911575317383,
          38.22764587402344,
          -29.37238121032715,
          -30.16353416442871
         ],
         "yaxis": "y"
        },
        {
         "hovertemplate": "color=DHS-Hurricane-3<br>x=%{x}<br>y=%{y}<extra></extra>",
         "legendgroup": "DHS-Hurricane-3",
         "marker": {
          "color": "#B6E880",
          "symbol": "circle"
         },
         "mode": "markers",
         "name": "DHS-Hurricane-3",
         "orientation": "v",
         "showlegend": true,
         "type": "scatter",
         "x": [
          -40.69717025756836,
          70.5953140258789,
          -26.84626579284668,
          -44.11027145385742,
          -79.63983917236328,
          -14.248364448547363,
          -131.11289978027344,
          -25.210355758666992,
          -60.138641357421875,
          -36.42059326171875,
          -49.76428985595703,
          -35.93355178833008,
          68.15111541748047,
          -17.786617279052734,
          118.46958923339844,
          -26.5201473236084,
          -12.817155838012695,
          -30.323246002197266,
          -31.903358459472656,
          -27.602182388305664,
          -83.07356262207031,
          -34.95201873779297,
          -42.218536376953125,
          -12.793320655822754,
          -50.14300537109375,
          -34.99958801269531,
          -36.005279541015625,
          -52.454132080078125,
          -46.02937316894531,
          -17.912887573242188,
          -59.60267639160156,
          -48.35370635986328,
          -80.2934799194336,
          -82.85182189941406,
          -19.058340072631836,
          -30.148096084594727,
          -28.702817916870117,
          -11.997048377990723,
          -16.39413833618164,
          -83.03097534179688,
          -24.806739807128906,
          -58.56583786010742,
          -29.849821090698242,
          -37.16878128051758,
          -49.60807418823242,
          -36.53628158569336,
          69.2232894897461,
          -16.759584426879883,
          119.24205780029297,
          -27.201303482055664,
          -49.45990753173828,
          -38.70320510864258,
          -12.617494583129883,
          -24.240650177001953,
          -23.058923721313477,
          -63.48176956176758,
          -44.870296478271484,
          -17.181137084960938,
          -17.489994049072266,
          68.22635650634766,
          -31.081422805786133,
          -62.24632263183594,
          -4.343254089355469,
          -41.76911163330078,
          -26.404386520385742,
          -32.09033966064453,
          -29.393535614013672,
          -113.78458404541016,
          10.012253761291504,
          -113.78473663330078,
          -21.601118087768555,
          -80.9828109741211,
          -27.71673011779785,
          -25.098106384277344,
          -50.63836669921875,
          -16.458486557006836,
          -59.09798812866211,
          -51.159542083740234,
          -44.6547737121582,
          -41.431331634521484,
          -30.962249755859375,
          -30.243467330932617,
          -34.959171295166016
         ],
         "xaxis": "x",
         "y": [
          -82.51483917236328,
          22.476898193359375,
          -72.86228942871094,
          -68.02632904052734,
          -107.96428680419922,
          -76.6468734741211,
          -41.43354415893555,
          -95.03175354003906,
          -145.1970977783203,
          -100.46956634521484,
          -109.95779418945312,
          -136.37335205078125,
          26.154151916503906,
          -77.00569152832031,
          -10.42216682434082,
          -116.23297882080078,
          -89.98702239990234,
          -73.08234405517578,
          -75.16926574707031,
          -94.10978698730469,
          -111.5932846069336,
          -137.63719177246094,
          -100.32118225097656,
          -108.05401611328125,
          -85.78376007080078,
          -90.80986022949219,
          -90.19440460205078,
          -109.66625213623047,
          -104.93326568603516,
          -59.389564514160156,
          -143.68971252441406,
          -67.6715087890625,
          -110.42757415771484,
          -110.30657958984375,
          -58.672367095947266,
          -114.24010467529297,
          -115.23757934570312,
          -107.30880737304688,
          -61.65794372558594,
          -108.14984893798828,
          -94.06597900390625,
          -144.90756225585938,
          -93.79177856445312,
          -99.65214538574219,
          -108.94884490966797,
          -137.85491943359375,
          26.014657974243164,
          -76.87041473388672,
          -11.194052696228027,
          -117.11376190185547,
          -87.85819244384766,
          15.3429536819458,
          -91.05621337890625,
          -88.39083862304688,
          -79.96546936035156,
          -98.46456146240234,
          -65.45028686523438,
          -71.95475006103516,
          -74.21636962890625,
          23.490753173828125,
          -60.73019790649414,
          -97.68372344970703,
          -62.94814682006836,
          -101.46369934082031,
          -98.68646240234375,
          -83.61515808105469,
          -71.91233825683594,
          48.45895004272461,
          -15.474957466125488,
          50.10110092163086,
          -77.7341537475586,
          -113.77313232421875,
          -82.10102081298828,
          -91.38520812988281,
          -106.87686157226562,
          -80.07467651367188,
          -66.42816162109375,
          -84.70260620117188,
          -96.35400390625,
          -83.71820068359375,
          -58.749691009521484,
          -82.31573486328125,
          -98.1791763305664
         ],
         "yaxis": "y"
        },
        {
         "hovertemplate": "color=Yasaka-Rakza-7<br>x=%{x}<br>y=%{y}<extra></extra>",
         "legendgroup": "Yasaka-Rakza-7",
         "marker": {
          "color": "#FF97FF",
          "symbol": "circle"
         },
         "mode": "markers",
         "name": "Yasaka-Rakza-7",
         "orientation": "v",
         "showlegend": true,
         "type": "scatter",
         "x": [
          67.35610961914062,
          72.99185180664062,
          68.78341674804688,
          67.8910140991211,
          77.42955780029297,
          61.0908317565918,
          73.43714904785156,
          72.27728271484375,
          67.79653930664062,
          69.10546875,
          -28.99381446838379,
          77.10357666015625,
          71.00830078125
         ],
         "xaxis": "x",
         "y": [
          -65.72994232177734,
          -63.81070327758789,
          -62.09356689453125,
          -63.352779388427734,
          -66.98670959472656,
          -56.53355407714844,
          -60.6191291809082,
          -58.22528839111328,
          -52.879085540771484,
          -60.58901596069336,
          -57.615379333496094,
          -65.97976684570312,
          -60.73725509643555
         ],
         "yaxis": "y"
        },
        {
         "hovertemplate": "color=Tibhar-Evolution-MX-S<br>x=%{x}<br>y=%{y}<extra></extra>",
         "legendgroup": "Tibhar-Evolution-MX-S",
         "marker": {
          "color": "#FECB52",
          "symbol": "circle"
         },
         "mode": "markers",
         "name": "Tibhar-Evolution-MX-S",
         "orientation": "v",
         "showlegend": true,
         "type": "scatter",
         "x": [
          -38.1856689453125,
          -71.33463287353516,
          -67.87693786621094,
          112.21819305419922,
          -78.54953002929688,
          -73.81452178955078,
          -95.79756927490234,
          -86.81312561035156,
          -67.58645629882812,
          -83.72125244140625,
          -67.96643829345703,
          -75.17737579345703,
          -67.58645629882812,
          -66.88766479492188,
          111.15453338623047,
          -77.52458953857422,
          -74.44974517822266,
          -95.95577239990234,
          -95.845458984375,
          -80.0677490234375,
          -82.17102813720703,
          -82.48870086669922,
          -64.38492584228516,
          -111.37550354003906,
          -86.46062469482422,
          -92.874267578125,
          -38.088951110839844,
          -35.950435638427734,
          -110.85903930664062,
          -95.2390365600586,
          -84.65813446044922,
          -90.68977355957031,
          -76.49056243896484,
          -33.87568664550781,
          -109.83566284179688,
          -76.43016052246094,
          -89.66423034667969,
          -87.5190200805664,
          -109.31161499023438
         ],
         "xaxis": "x",
         "y": [
          -67.25674438476562,
          -12.497474670410156,
          -12.848004341125488,
          58.48468017578125,
          -20.00006675720215,
          -13.192389488220215,
          5.200070381164551,
          13.057443618774414,
          -0.2535867691040039,
          17.1077880859375,
          -15.54355525970459,
          12.79342269897461,
          -0.2535867691040039,
          -13.318418502807617,
          58.71595001220703,
          -20.419273376464844,
          -12.275341033935547,
          4.109637260437012,
          23.877750396728516,
          5.5935750007629395,
          6.657079696655273,
          12.27399730682373,
          -12.68151569366455,
          -3.941523313522339,
          15.772388458251953,
          10.720921516418457,
          -65.29855346679688,
          -62.539154052734375,
          -5.532081604003906,
          22.683012008666992,
          12.236180305480957,
          21.90232276916504,
          12.57848072052002,
          -68.52603912353516,
          -7.882389545440674,
          1.4206833839416504,
          12.872722625732422,
          19.76612091064453,
          -4.905066013336182
         ],
         "yaxis": "y"
        },
        {
         "hovertemplate": "color=Chinese-rubbers<br>x=%{x}<br>y=%{y}<extra></extra>",
         "legendgroup": "Chinese-rubbers",
         "marker": {
          "color": "#636efa",
          "symbol": "circle"
         },
         "mode": "markers",
         "name": "Chinese-rubbers",
         "orientation": "v",
         "showlegend": true,
         "type": "scatter",
         "x": [
          35.12977981567383,
          16.34024429321289,
          26.975160598754883,
          98.11439514160156,
          87.80941772460938,
          104.5584945678711,
          9.402146339416504,
          104.26923370361328,
          87.16690826416016,
          97.8607177734375,
          63.992496490478516,
          94.5480728149414,
          102.00025177001953,
          84.56822204589844,
          33.535404205322266,
          88.39110565185547,
          101.8160171508789,
          21.934856414794922,
          102.74833679199219,
          98.46646118164062,
          116.84445190429688,
          106.01272583007812,
          103.13603210449219,
          95.17620086669922,
          93.78050994873047,
          28.62188148498535,
          108.25204467773438,
          106.67208862304688,
          91.29328155517578,
          115.51737213134766,
          94.08516693115234,
          4.022974014282227,
          21.536842346191406,
          101.61619567871094,
          84.5546646118164,
          32.54768371582031,
          23.78968048095703,
          88.86299133300781,
          115.40528869628906,
          22.067895889282227,
          4.1135053634643555,
          25.48550033569336,
          23.66691017150879
         ],
         "xaxis": "x",
         "y": [
          -31.076539993286133,
          -47.193748474121094,
          -40.53601837158203,
          46.72707748413086,
          24.452341079711914,
          32.51824951171875,
          -40.44112014770508,
          39.36714172363281,
          22.544742584228516,
          38.65056610107422,
          45.683616638183594,
          35.57829284667969,
          40.229732513427734,
          42.77664566040039,
          -53.509490966796875,
          32.46363067626953,
          36.554656982421875,
          -27.512767791748047,
          42.619956970214844,
          35.11894607543945,
          36.29446792602539,
          37.46672821044922,
          33.89908981323242,
          39.00196075439453,
          32.302608489990234,
          -41.436256408691406,
          44.64430236816406,
          43.104427337646484,
          31.341537475585938,
          37.18901824951172,
          34.48874282836914,
          -46.52680587768555,
          -40.16008758544922,
          39.2957649230957,
          43.86545944213867,
          -53.975425720214844,
          -43.696311950683594,
          33.46858215332031,
          35.586334228515625,
          -8.626786231994629,
          -49.19899368286133,
          -41.19090270996094,
          -41.787208557128906
         ],
         "yaxis": "y"
        },
        {
         "hovertemplate": "color=Tibhar-Evolution-EL-S<br>x=%{x}<br>y=%{y}<extra></extra>",
         "legendgroup": "Tibhar-Evolution-EL-S",
         "marker": {
          "color": "#EF553B",
          "symbol": "circle"
         },
         "mode": "markers",
         "name": "Tibhar-Evolution-EL-S",
         "orientation": "v",
         "showlegend": true,
         "type": "scatter",
         "x": [
          -6.600694179534912,
          -5.6677751541137695,
          -7.3521952629089355,
          -7.31104850769043,
          -13.68249225616455,
          -10.61706256866455,
          -12.280184745788574,
          62.07619094848633,
          -8.548063278198242,
          -10.528804779052734,
          -8.515886306762695,
          -0.42368215322494507,
          19.571163177490234,
          -1.1115772724151611,
          -11.935593605041504,
          -13.914238929748535
         ],
         "xaxis": "x",
         "y": [
          49.09480285644531,
          49.847198486328125,
          46.15416717529297,
          42.4574089050293,
          61.96684265136719,
          64.0215835571289,
          63.289974212646484,
          45.130035400390625,
          64.55591583251953,
          58.86882400512695,
          54.88795471191406,
          61.759315490722656,
          -23.53481674194336,
          60.859283447265625,
          60.45667266845703,
          59.326995849609375
         ],
         "yaxis": "y"
        },
        {
         "hovertemplate": "color=Butterfly-Tenergy-05-FX<br>x=%{x}<br>y=%{y}<extra></extra>",
         "legendgroup": "Butterfly-Tenergy-05-FX",
         "marker": {
          "color": "#00cc96",
          "symbol": "circle"
         },
         "mode": "markers",
         "name": "Butterfly-Tenergy-05-FX",
         "orientation": "v",
         "showlegend": true,
         "type": "scatter",
         "x": [
          -58.43528366088867,
          -33.040550231933594,
          21.555200576782227,
          -56.34526062011719,
          -44.31488037109375,
          12.308419227600098,
          -39.25210952758789,
          32.810054779052734,
          -51.552589416503906,
          -48.70598602294922,
          22.611867904663086
         ],
         "xaxis": "x",
         "y": [
          32.98847961425781,
          -56.07191848754883,
          84.9566879272461,
          33.6975212097168,
          16.245851516723633,
          91.6239242553711,
          -38.67475128173828,
          113.13009643554688,
          9.722618103027344,
          125.24056243896484,
          -5.754697799682617
         ],
         "yaxis": "y"
        },
        {
         "hovertemplate": "color=Butterfly-Tenergy-64<br>x=%{x}<br>y=%{y}<extra></extra>",
         "legendgroup": "Butterfly-Tenergy-64",
         "marker": {
          "color": "#ab63fa",
          "symbol": "circle"
         },
         "mode": "markers",
         "name": "Butterfly-Tenergy-64",
         "orientation": "v",
         "showlegend": true,
         "type": "scatter",
         "x": [
          -48.0623893737793,
          -53.45935821533203,
          -64.77586364746094,
          -60.861324310302734,
          19.90999984741211,
          -65.72215270996094,
          -55.227928161621094,
          -57.18048858642578,
          -40.34431838989258,
          -41.60646438598633,
          -64.25109100341797,
          -66.23848724365234,
          -59.49199295043945,
          -30.5579833984375,
          -43.879798889160156,
          -66.07818603515625,
          -60.77863693237305,
          -48.745418548583984,
          -43.0305061340332,
          -46.805538177490234,
          -41.62725830078125
         ],
         "xaxis": "x",
         "y": [
          72.66573333740234,
          68.01510620117188,
          80.95198822021484,
          67.52092742919922,
          86.25260162353516,
          68.5536117553711,
          65.76509857177734,
          64.30009460449219,
          69.65792083740234,
          70.591552734375,
          68.14715576171875,
          81.6094970703125,
          66.87599182128906,
          49.34340286254883,
          76.14965057373047,
          80.0168228149414,
          65.92880249023438,
          77.05510711669922,
          77.10785675048828,
          74.25706481933594,
          78.77350616455078
         ],
         "yaxis": "y"
        },
        {
         "hovertemplate": "color=Yasaka-Mark-V<br>x=%{x}<br>y=%{y}<extra></extra>",
         "legendgroup": "Yasaka-Mark-V",
         "marker": {
          "color": "#FFA15A",
          "symbol": "circle"
         },
         "mode": "markers",
         "name": "Yasaka-Mark-V",
         "orientation": "v",
         "showlegend": true,
         "type": "scatter",
         "x": [
          21.245832443237305,
          31.31153106689453,
          13.825851440429688,
          19.622644424438477,
          -82.00770568847656,
          27.270214080810547,
          21.238670349121094,
          23.569711685180664,
          11.836575508117676,
          13.484406471252441,
          14.52490520477295,
          21.82754898071289,
          31.848037719726562,
          13.433015823364258,
          20.65239906311035,
          -80.92029571533203,
          18.75652313232422,
          27.280302047729492,
          21.238670349121094,
          23.038246154785156,
          24.45345115661621,
          11.685275077819824
         ],
         "xaxis": "x",
         "y": [
          -146.51217651367188,
          -143.85812377929688,
          -150.57130432128906,
          -154.1529083251953,
          -55.5623893737793,
          -147.9355010986328,
          -143.30149841308594,
          -136.84820556640625,
          -140.0499725341797,
          -130.7960662841797,
          -130.4954376220703,
          -139.5926055908203,
          -144.83599853515625,
          -149.5572052001953,
          -154.51150512695312,
          -55.56229019165039,
          -143.9905242919922,
          -146.83242797851562,
          -143.30149841308594,
          -145.5078887939453,
          -137.473388671875,
          -141.12359619140625
         ],
         "yaxis": "y"
        },
        {
         "hovertemplate": "color=Donic-Bluefire-M2<br>x=%{x}<br>y=%{y}<extra></extra>",
         "legendgroup": "Donic-Bluefire-M2",
         "marker": {
          "color": "#19d3f3",
          "symbol": "circle"
         },
         "mode": "markers",
         "name": "Donic-Bluefire-M2",
         "orientation": "v",
         "showlegend": true,
         "type": "scatter",
         "x": [
          -75.03670501708984,
          -63.0862922668457,
          -21.179996490478516,
          -73.25982666015625,
          -100.64643859863281,
          -74.12411499023438,
          -101.22785949707031,
          -89.24877166748047,
          -63.124488830566406
         ],
         "xaxis": "x",
         "y": [
          42.04206848144531,
          -65.84064483642578,
          -34.660247802734375,
          43.73393630981445,
          -44.018760681152344,
          41.43357467651367,
          -43.10597610473633,
          -30.84046745300293,
          -66.92586517333984
         ],
         "yaxis": "y"
        },
        {
         "hovertemplate": "color=Xiom-Vega-Japan<br>x=%{x}<br>y=%{y}<extra></extra>",
         "legendgroup": "Xiom-Vega-Japan",
         "marker": {
          "color": "#FF6692",
          "symbol": "circle"
         },
         "mode": "markers",
         "name": "Xiom-Vega-Japan",
         "orientation": "v",
         "showlegend": true,
         "type": "scatter",
         "x": [
          106.65635681152344,
          105.48043060302734,
          94.55488586425781,
          105.24738311767578,
          95.6259536743164,
          91.6757583618164,
          95.40770721435547,
          95.97950744628906,
          107.56726837158203,
          95.62377166748047,
          107.75525665283203,
          95.47272491455078
         ],
         "xaxis": "x",
         "y": [
          12.180059432983398,
          -33.2150993347168,
          -26.495922088623047,
          -34.2728385925293,
          -26.581317901611328,
          -27.463512420654297,
          -18.83689308166504,
          -24.12228012084961,
          12.779437065124512,
          -17.727136611938477,
          -34.53375244140625,
          -28.894638061523438
         ],
         "yaxis": "y"
        },
        {
         "hovertemplate": "color=Andro-Roxon-450<br>x=%{x}<br>y=%{y}<extra></extra>",
         "legendgroup": "Andro-Roxon-450",
         "marker": {
          "color": "#B6E880",
          "symbol": "circle"
         },
         "mode": "markers",
         "name": "Andro-Roxon-450",
         "orientation": "v",
         "showlegend": true,
         "type": "scatter",
         "x": [
          -104.44042205810547,
          4.872636318206787,
          -3.4299042224884033,
          -1.0274664163589478,
          4.894211292266846,
          7.036357402801514,
          -105.95668029785156,
          -6.345932960510254,
          -105.63300323486328,
          -5.282366752624512,
          3.7958900928497314,
          5.527716159820557,
          -2.648679256439209
         ],
         "xaxis": "x",
         "y": [
          105.62224578857422,
          11.966291427612305,
          8.208269119262695,
          6.662778377532959,
          14.428802490234375,
          6.6340436935424805,
          106.12435913085938,
          16.048110961914062,
          104.55957794189453,
          16.31804656982422,
          12.085110664367676,
          7.877828598022461,
          6.733504295349121
         ],
         "yaxis": "y"
        },
        {
         "hovertemplate": "color=Butterfly-Bryce<br>x=%{x}<br>y=%{y}<extra></extra>",
         "legendgroup": "Butterfly-Bryce",
         "marker": {
          "color": "#FF97FF",
          "symbol": "circle"
         },
         "mode": "markers",
         "name": "Butterfly-Bryce",
         "orientation": "v",
         "showlegend": true,
         "type": "scatter",
         "x": [
          54.42726516723633,
          51.029869079589844,
          20.403242111206055,
          -56.11471939086914,
          54.5753059387207,
          98.41764831542969,
          53.120269775390625,
          33.070579528808594,
          50.58945846557617,
          19.316720962524414,
          52.78267288208008,
          53.37564468383789
         ],
         "xaxis": "x",
         "y": [
          -0.6434881687164307,
          -10.288010597229004,
          -66.16686248779297,
          -83.30183410644531,
          -2.2379801273345947,
          51.30870819091797,
          -1.5646147727966309,
          -31.71955108642578,
          -11.311781883239746,
          -66.10786437988281,
          -13.347697257995605,
          -11.255098342895508
         ],
         "yaxis": "y"
        },
        {
         "hovertemplate": "color=DHS-Hurricane-3-50<br>x=%{x}<br>y=%{y}<extra></extra>",
         "legendgroup": "DHS-Hurricane-3-50",
         "marker": {
          "color": "#FECB52",
          "symbol": "circle"
         },
         "mode": "markers",
         "name": "DHS-Hurricane-3-50",
         "orientation": "v",
         "showlegend": true,
         "type": "scatter",
         "x": [
          -66.57293701171875,
          -87.43347930908203,
          -85.42023468017578,
          -84.1258773803711,
          -52.874759674072266,
          -67.74868774414062,
          -52.580413818359375,
          -55.69294738769531,
          -41.402957916259766,
          -46.528167724609375,
          -53.28571701049805,
          -39.3531494140625,
          -51.354698181152344,
          -85.1227035522461
         ],
         "xaxis": "x",
         "y": [
          -100.55035400390625,
          -80.05154418945312,
          -82.03470611572266,
          -84.021728515625,
          -46.80706024169922,
          -101.7757797241211,
          -49.10276794433594,
          -43.59828186035156,
          -56.63203048706055,
          -56.206581115722656,
          -51.570960998535156,
          0.6232166886329651,
          -49.73737335205078,
          -80.90916442871094
         ],
         "yaxis": "y"
        }
       ],
       "layout": {
        "legend": {
         "title": {
          "text": "color"
         },
         "tracegroupgap": 0
        },
        "margin": {
         "t": 60
        },
        "template": {
         "data": {
          "bar": [
           {
            "error_x": {
             "color": "#2a3f5f"
            },
            "error_y": {
             "color": "#2a3f5f"
            },
            "marker": {
             "line": {
              "color": "#E5ECF6",
              "width": 0.5
             }
            },
            "type": "bar"
           }
          ],
          "barpolar": [
           {
            "marker": {
             "line": {
              "color": "#E5ECF6",
              "width": 0.5
             }
            },
            "type": "barpolar"
           }
          ],
          "carpet": [
           {
            "aaxis": {
             "endlinecolor": "#2a3f5f",
             "gridcolor": "white",
             "linecolor": "white",
             "minorgridcolor": "white",
             "startlinecolor": "#2a3f5f"
            },
            "baxis": {
             "endlinecolor": "#2a3f5f",
             "gridcolor": "white",
             "linecolor": "white",
             "minorgridcolor": "white",
             "startlinecolor": "#2a3f5f"
            },
            "type": "carpet"
           }
          ],
          "choropleth": [
           {
            "colorbar": {
             "outlinewidth": 0,
             "ticks": ""
            },
            "type": "choropleth"
           }
          ],
          "contour": [
           {
            "colorbar": {
             "outlinewidth": 0,
             "ticks": ""
            },
            "colorscale": [
             [
              0,
              "#0d0887"
             ],
             [
              0.1111111111111111,
              "#46039f"
             ],
             [
              0.2222222222222222,
              "#7201a8"
             ],
             [
              0.3333333333333333,
              "#9c179e"
             ],
             [
              0.4444444444444444,
              "#bd3786"
             ],
             [
              0.5555555555555556,
              "#d8576b"
             ],
             [
              0.6666666666666666,
              "#ed7953"
             ],
             [
              0.7777777777777778,
              "#fb9f3a"
             ],
             [
              0.8888888888888888,
              "#fdca26"
             ],
             [
              1,
              "#f0f921"
             ]
            ],
            "type": "contour"
           }
          ],
          "contourcarpet": [
           {
            "colorbar": {
             "outlinewidth": 0,
             "ticks": ""
            },
            "type": "contourcarpet"
           }
          ],
          "heatmap": [
           {
            "colorbar": {
             "outlinewidth": 0,
             "ticks": ""
            },
            "colorscale": [
             [
              0,
              "#0d0887"
             ],
             [
              0.1111111111111111,
              "#46039f"
             ],
             [
              0.2222222222222222,
              "#7201a8"
             ],
             [
              0.3333333333333333,
              "#9c179e"
             ],
             [
              0.4444444444444444,
              "#bd3786"
             ],
             [
              0.5555555555555556,
              "#d8576b"
             ],
             [
              0.6666666666666666,
              "#ed7953"
             ],
             [
              0.7777777777777778,
              "#fb9f3a"
             ],
             [
              0.8888888888888888,
              "#fdca26"
             ],
             [
              1,
              "#f0f921"
             ]
            ],
            "type": "heatmap"
           }
          ],
          "heatmapgl": [
           {
            "colorbar": {
             "outlinewidth": 0,
             "ticks": ""
            },
            "colorscale": [
             [
              0,
              "#0d0887"
             ],
             [
              0.1111111111111111,
              "#46039f"
             ],
             [
              0.2222222222222222,
              "#7201a8"
             ],
             [
              0.3333333333333333,
              "#9c179e"
             ],
             [
              0.4444444444444444,
              "#bd3786"
             ],
             [
              0.5555555555555556,
              "#d8576b"
             ],
             [
              0.6666666666666666,
              "#ed7953"
             ],
             [
              0.7777777777777778,
              "#fb9f3a"
             ],
             [
              0.8888888888888888,
              "#fdca26"
             ],
             [
              1,
              "#f0f921"
             ]
            ],
            "type": "heatmapgl"
           }
          ],
          "histogram": [
           {
            "marker": {
             "colorbar": {
              "outlinewidth": 0,
              "ticks": ""
             }
            },
            "type": "histogram"
           }
          ],
          "histogram2d": [
           {
            "colorbar": {
             "outlinewidth": 0,
             "ticks": ""
            },
            "colorscale": [
             [
              0,
              "#0d0887"
             ],
             [
              0.1111111111111111,
              "#46039f"
             ],
             [
              0.2222222222222222,
              "#7201a8"
             ],
             [
              0.3333333333333333,
              "#9c179e"
             ],
             [
              0.4444444444444444,
              "#bd3786"
             ],
             [
              0.5555555555555556,
              "#d8576b"
             ],
             [
              0.6666666666666666,
              "#ed7953"
             ],
             [
              0.7777777777777778,
              "#fb9f3a"
             ],
             [
              0.8888888888888888,
              "#fdca26"
             ],
             [
              1,
              "#f0f921"
             ]
            ],
            "type": "histogram2d"
           }
          ],
          "histogram2dcontour": [
           {
            "colorbar": {
             "outlinewidth": 0,
             "ticks": ""
            },
            "colorscale": [
             [
              0,
              "#0d0887"
             ],
             [
              0.1111111111111111,
              "#46039f"
             ],
             [
              0.2222222222222222,
              "#7201a8"
             ],
             [
              0.3333333333333333,
              "#9c179e"
             ],
             [
              0.4444444444444444,
              "#bd3786"
             ],
             [
              0.5555555555555556,
              "#d8576b"
             ],
             [
              0.6666666666666666,
              "#ed7953"
             ],
             [
              0.7777777777777778,
              "#fb9f3a"
             ],
             [
              0.8888888888888888,
              "#fdca26"
             ],
             [
              1,
              "#f0f921"
             ]
            ],
            "type": "histogram2dcontour"
           }
          ],
          "mesh3d": [
           {
            "colorbar": {
             "outlinewidth": 0,
             "ticks": ""
            },
            "type": "mesh3d"
           }
          ],
          "parcoords": [
           {
            "line": {
             "colorbar": {
              "outlinewidth": 0,
              "ticks": ""
             }
            },
            "type": "parcoords"
           }
          ],
          "pie": [
           {
            "automargin": true,
            "type": "pie"
           }
          ],
          "scatter": [
           {
            "marker": {
             "colorbar": {
              "outlinewidth": 0,
              "ticks": ""
             }
            },
            "type": "scatter"
           }
          ],
          "scatter3d": [
           {
            "line": {
             "colorbar": {
              "outlinewidth": 0,
              "ticks": ""
             }
            },
            "marker": {
             "colorbar": {
              "outlinewidth": 0,
              "ticks": ""
             }
            },
            "type": "scatter3d"
           }
          ],
          "scattercarpet": [
           {
            "marker": {
             "colorbar": {
              "outlinewidth": 0,
              "ticks": ""
             }
            },
            "type": "scattercarpet"
           }
          ],
          "scattergeo": [
           {
            "marker": {
             "colorbar": {
              "outlinewidth": 0,
              "ticks": ""
             }
            },
            "type": "scattergeo"
           }
          ],
          "scattergl": [
           {
            "marker": {
             "colorbar": {
              "outlinewidth": 0,
              "ticks": ""
             }
            },
            "type": "scattergl"
           }
          ],
          "scattermapbox": [
           {
            "marker": {
             "colorbar": {
              "outlinewidth": 0,
              "ticks": ""
             }
            },
            "type": "scattermapbox"
           }
          ],
          "scatterpolar": [
           {
            "marker": {
             "colorbar": {
              "outlinewidth": 0,
              "ticks": ""
             }
            },
            "type": "scatterpolar"
           }
          ],
          "scatterpolargl": [
           {
            "marker": {
             "colorbar": {
              "outlinewidth": 0,
              "ticks": ""
             }
            },
            "type": "scatterpolargl"
           }
          ],
          "scatterternary": [
           {
            "marker": {
             "colorbar": {
              "outlinewidth": 0,
              "ticks": ""
             }
            },
            "type": "scatterternary"
           }
          ],
          "surface": [
           {
            "colorbar": {
             "outlinewidth": 0,
             "ticks": ""
            },
            "colorscale": [
             [
              0,
              "#0d0887"
             ],
             [
              0.1111111111111111,
              "#46039f"
             ],
             [
              0.2222222222222222,
              "#7201a8"
             ],
             [
              0.3333333333333333,
              "#9c179e"
             ],
             [
              0.4444444444444444,
              "#bd3786"
             ],
             [
              0.5555555555555556,
              "#d8576b"
             ],
             [
              0.6666666666666666,
              "#ed7953"
             ],
             [
              0.7777777777777778,
              "#fb9f3a"
             ],
             [
              0.8888888888888888,
              "#fdca26"
             ],
             [
              1,
              "#f0f921"
             ]
            ],
            "type": "surface"
           }
          ],
          "table": [
           {
            "cells": {
             "fill": {
              "color": "#EBF0F8"
             },
             "line": {
              "color": "white"
             }
            },
            "header": {
             "fill": {
              "color": "#C8D4E3"
             },
             "line": {
              "color": "white"
             }
            },
            "type": "table"
           }
          ]
         },
         "layout": {
          "annotationdefaults": {
           "arrowcolor": "#2a3f5f",
           "arrowhead": 0,
           "arrowwidth": 1
          },
          "autotypenumbers": "strict",
          "coloraxis": {
           "colorbar": {
            "outlinewidth": 0,
            "ticks": ""
           }
          },
          "colorscale": {
           "diverging": [
            [
             0,
             "#8e0152"
            ],
            [
             0.1,
             "#c51b7d"
            ],
            [
             0.2,
             "#de77ae"
            ],
            [
             0.3,
             "#f1b6da"
            ],
            [
             0.4,
             "#fde0ef"
            ],
            [
             0.5,
             "#f7f7f7"
            ],
            [
             0.6,
             "#e6f5d0"
            ],
            [
             0.7,
             "#b8e186"
            ],
            [
             0.8,
             "#7fbc41"
            ],
            [
             0.9,
             "#4d9221"
            ],
            [
             1,
             "#276419"
            ]
           ],
           "sequential": [
            [
             0,
             "#0d0887"
            ],
            [
             0.1111111111111111,
             "#46039f"
            ],
            [
             0.2222222222222222,
             "#7201a8"
            ],
            [
             0.3333333333333333,
             "#9c179e"
            ],
            [
             0.4444444444444444,
             "#bd3786"
            ],
            [
             0.5555555555555556,
             "#d8576b"
            ],
            [
             0.6666666666666666,
             "#ed7953"
            ],
            [
             0.7777777777777778,
             "#fb9f3a"
            ],
            [
             0.8888888888888888,
             "#fdca26"
            ],
            [
             1,
             "#f0f921"
            ]
           ],
           "sequentialminus": [
            [
             0,
             "#0d0887"
            ],
            [
             0.1111111111111111,
             "#46039f"
            ],
            [
             0.2222222222222222,
             "#7201a8"
            ],
            [
             0.3333333333333333,
             "#9c179e"
            ],
            [
             0.4444444444444444,
             "#bd3786"
            ],
            [
             0.5555555555555556,
             "#d8576b"
            ],
            [
             0.6666666666666666,
             "#ed7953"
            ],
            [
             0.7777777777777778,
             "#fb9f3a"
            ],
            [
             0.8888888888888888,
             "#fdca26"
            ],
            [
             1,
             "#f0f921"
            ]
           ]
          },
          "colorway": [
           "#636efa",
           "#EF553B",
           "#00cc96",
           "#ab63fa",
           "#FFA15A",
           "#19d3f3",
           "#FF6692",
           "#B6E880",
           "#FF97FF",
           "#FECB52"
          ],
          "font": {
           "color": "#2a3f5f"
          },
          "geo": {
           "bgcolor": "white",
           "lakecolor": "white",
           "landcolor": "#E5ECF6",
           "showlakes": true,
           "showland": true,
           "subunitcolor": "white"
          },
          "hoverlabel": {
           "align": "left"
          },
          "hovermode": "closest",
          "mapbox": {
           "style": "light"
          },
          "paper_bgcolor": "white",
          "plot_bgcolor": "#E5ECF6",
          "polar": {
           "angularaxis": {
            "gridcolor": "white",
            "linecolor": "white",
            "ticks": ""
           },
           "bgcolor": "#E5ECF6",
           "radialaxis": {
            "gridcolor": "white",
            "linecolor": "white",
            "ticks": ""
           }
          },
          "scene": {
           "xaxis": {
            "backgroundcolor": "#E5ECF6",
            "gridcolor": "white",
            "gridwidth": 2,
            "linecolor": "white",
            "showbackground": true,
            "ticks": "",
            "zerolinecolor": "white"
           },
           "yaxis": {
            "backgroundcolor": "#E5ECF6",
            "gridcolor": "white",
            "gridwidth": 2,
            "linecolor": "white",
            "showbackground": true,
            "ticks": "",
            "zerolinecolor": "white"
           },
           "zaxis": {
            "backgroundcolor": "#E5ECF6",
            "gridcolor": "white",
            "gridwidth": 2,
            "linecolor": "white",
            "showbackground": true,
            "ticks": "",
            "zerolinecolor": "white"
           }
          },
          "shapedefaults": {
           "line": {
            "color": "#2a3f5f"
           }
          },
          "ternary": {
           "aaxis": {
            "gridcolor": "white",
            "linecolor": "white",
            "ticks": ""
           },
           "baxis": {
            "gridcolor": "white",
            "linecolor": "white",
            "ticks": ""
           },
           "bgcolor": "#E5ECF6",
           "caxis": {
            "gridcolor": "white",
            "linecolor": "white",
            "ticks": ""
           }
          },
          "title": {
           "x": 0.05
          },
          "xaxis": {
           "automargin": true,
           "gridcolor": "white",
           "linecolor": "white",
           "ticks": "",
           "title": {
            "standoff": 15
           },
           "zerolinecolor": "white",
           "zerolinewidth": 2
          },
          "yaxis": {
           "automargin": true,
           "gridcolor": "white",
           "linecolor": "white",
           "ticks": "",
           "title": {
            "standoff": 15
           },
           "zerolinecolor": "white",
           "zerolinewidth": 2
          }
         }
        },
        "xaxis": {
         "anchor": "y",
         "domain": [
          0,
          1
         ],
         "title": {
          "text": "x"
         }
        },
        "yaxis": {
         "anchor": "x",
         "domain": [
          0,
          1
         ],
         "title": {
          "text": "y"
         }
        }
       }
      },
      "text/html": [
       "<div>                            <div id=\"c90ffd72-1cac-46fe-9f6d-e0cac04c1a3d\" class=\"plotly-graph-div\" style=\"height:525px; width:100%;\"></div>            <script type=\"text/javascript\">                require([\"plotly\"], function(Plotly) {                    window.PLOTLYENV=window.PLOTLYENV || {};                                    if (document.getElementById(\"c90ffd72-1cac-46fe-9f6d-e0cac04c1a3d\")) {                    Plotly.newPlot(                        \"c90ffd72-1cac-46fe-9f6d-e0cac04c1a3d\",                        [{\"hovertemplate\": \"color=Butterfly-Tenergy-05<br>x=%{x}<br>y=%{y}<extra></extra>\", \"legendgroup\": \"Butterfly-Tenergy-05\", \"marker\": {\"color\": \"#636efa\", \"symbol\": \"circle\"}, \"mode\": \"markers\", \"name\": \"Butterfly-Tenergy-05\", \"orientation\": \"v\", \"showlegend\": true, \"type\": \"scatter\", \"x\": [-41.59170150756836, -39.629459381103516, 8.11048412322998, 52.309024810791016, 10.989690780639648, 15.400367736816406, -18.5662841796875, -54.00202178955078, 1.7772929668426514, 10.226578712463379, 81.44497680664062, -4.773909568786621, -15.979854583740234, -20.16082763671875, -5.230447292327881, -46.55897903442383, -26.356889724731445, -43.40346908569336, -44.81928634643555, -31.07486915588379, 3.2214295864105225, 3.89691162109375, -31.708681106567383, -53.75839614868164, -27.275691986083984, -30.3651065826416, -30.788076400756836, -43.64601516723633, 3.704941749572754, -0.09750711917877197, 6.561244964599609, 7.355299949645996, -30.297807693481445, -45.9544563293457, -18.126779556274414, 54.93855667114258, 7.693634033203125, -35.29616928100586, -23.092763900756836, -35.600406646728516, -22.534440994262695, -29.595733642578125, -39.7244987487793, 16.40378189086914, -19.538028717041016, -52.91804122924805, 2.4378981590270996, 10.612942695617676, 80.3947982788086, -3.716657876968384, 2.831099510192871, -31.905866622924805, -16.807079315185547, -20.721248626708984, -45.47050094604492, -25.365161895751953, 6.02090311050415, -44.203529357910156, -43.288108825683594, -46.757545471191406, -13.671411514282227, -41.40584945678711, -30.88678741455078, -29.402162551879883, -12.288084030151367, -63.78898239135742, -18.655590057373047, -35.90180969238281, -19.222732543945312, -87.18205261230469, -20.449445724487305, -12.470033645629883, -22.792966842651367, -33.60529708862305, -45.02594757080078, -37.138999938964844, 53.95680618286133, 51.97734069824219, -18.614370346069336, -34.859310150146484, -39.99900436401367, -45.67013168334961, -29.381019592285156, -26.760515213012695, -32.84574508666992, 22.248035430908203, -35.44704818725586, -37.3339729309082, -24.734451293945312], \"xaxis\": \"x\", \"y\": [121.02484893798828, 124.0186996459961, 101.98397064208984, 71.13280487060547, 97.9649658203125, -90.35785675048828, 29.099172592163086, 117.26341247558594, 97.52115631103516, 92.63175201416016, 91.1611557006836, 31.672693252563477, 127.57051849365234, 106.22220611572266, 34.727848052978516, 140.76443481445312, 147.58775329589844, 113.24032592773438, 149.28968811035156, 19.325237274169922, 102.86042022705078, 101.31761169433594, 108.92826080322266, 120.1816635131836, 22.302146911621094, 124.31927490234375, 118.30241394042969, 150.37509155273438, 105.91842651367188, 95.61968231201172, 106.1247787475586, 100.71770477294922, 122.95463562011719, 114.9156723022461, 125.87744140625, 72.10481262207031, 92.28199005126953, 131.7509765625, 106.36034393310547, 117.50904846191406, 125.36376953125, 119.67847442626953, 128.8839111328125, -89.9366683959961, 28.607383728027344, 117.34978485107422, 96.66111755371094, 93.62442779541016, 90.87496948242188, 31.795438766479492, 106.9400863647461, 101.35066223144531, 128.23690795898438, 105.35484313964844, 140.70477294921875, 148.0350341796875, 98.719482421875, 112.57777404785156, 148.8172607421875, 121.67353820800781, 131.3282012939453, 122.1645278930664, 129.36598205566406, 17.630584716796875, 124.962158203125, -19.161840438842773, 130.70167541503906, 129.13084411621094, 103.24510192871094, 9.971017837524414, 132.3166046142578, 132.7278289794922, 124.2159194946289, 106.8064956665039, 126.16567993164062, 128.1768035888672, 69.99653625488281, 67.98230743408203, 108.30782318115234, 106.95143127441406, 114.93302154541016, 123.66451263427734, 131.48793029785156, 118.47947692871094, 104.02687072753906, 11.819663047790527, 126.74141693115234, 116.39559173583984, 117.50336456298828], \"yaxis\": \"y\"}, {\"hovertemplate\": \"color=Butterfly-Sriver<br>x=%{x}<br>y=%{y}<extra></extra>\", \"legendgroup\": \"Butterfly-Sriver\", \"marker\": {\"color\": \"#EF553B\", \"symbol\": \"circle\"}, \"mode\": \"markers\", \"name\": \"Butterfly-Sriver\", \"orientation\": \"v\", \"showlegend\": true, \"type\": \"scatter\", \"x\": [22.322509765625, 52.38507843017578, 48.47924041748047, 40.82616424560547, 54.359806060791016, 37.792724609375, 86.2629623413086, 41.08295440673828, 53.17676544189453, 49.45966339111328, 39.09616470336914, 47.85765838623047, 39.74921417236328], \"xaxis\": \"x\", \"y\": [75.33855438232422, -97.85326385498047, -103.69271087646484, -66.70883178710938, -99.02928924560547, -78.79828643798828, 20.489269256591797, -71.36593627929688, -97.08142852783203, -104.1642074584961, -78.30301666259766, -106.2671127319336, -66.86035919189453], \"yaxis\": \"y\"}, {\"hovertemplate\": \"color=Butterfly-Tenergy<br>x=%{x}<br>y=%{y}<extra></extra>\", \"legendgroup\": \"Butterfly-Tenergy\", \"marker\": {\"color\": \"#00cc96\", \"symbol\": \"circle\"}, \"mode\": \"markers\", \"name\": \"Butterfly-Tenergy\", \"orientation\": \"v\", \"showlegend\": true, \"type\": \"scatter\", \"x\": [51.806758880615234, 55.958030700683594, 50.282325744628906, 55.578948974609375, 50.584320068359375, 54.410640716552734, 62.96890640258789, 38.34848403930664, 47.602333068847656, 40.311485290527344, -30.01719856262207, 50.775508880615234, 64.11091613769531, 57.85433578491211, 44.575416564941406, 19.402217864990234, 54.23848342895508, 57.17409133911133, 55.81866455078125, -24.990074157714844, 56.331607818603516, 55.39863967895508, 47.09471893310547, 36.27288818359375, 22.973793029785156, 36.9675178527832, 36.283626556396484, 38.91824722290039, -127.09735870361328, 45.47514724731445, 53.17509460449219, 3.1631839275360107, 53.20806884765625, 22.92325782775879, 36.73480987548828, 55.60795593261719, 30.903207778930664, 50.61632537841797, 63.64303970336914, -109.93280029296875, 58.38379669189453, 53.95027160644531, 43.66680908203125, 19.386171340942383, 55.08236312866211, 35.12830352783203, 56.41219711303711, 38.50345993041992, 58.253883361816406, -53.53145980834961, 23.511274337768555, 47.67722702026367, 35.96040344238281, 38.45024490356445, 44.82291030883789, 39.736976623535156, 39.03549575805664, -22.685869216918945, 34.22709655761719, 34.43925857543945, 28.298995971679688, 45.806087493896484, 48.89371871948242, 43.078956604003906, -0.3094281554222107, 48.51423263549805, 37.615394592285156, 58.09418487548828, 37.00443649291992, 42.38353729248047, 42.8736572265625, 60.05636978149414, 45.408966064453125, 26.925153732299805, 57.248435974121094], \"xaxis\": \"x\", \"y\": [136.9552459716797, 142.31301879882812, 136.45045471191406, 140.75430297851562, 138.02769470214844, 141.88743591308594, 102.35889434814453, 98.40042877197266, 98.06477355957031, 87.74408721923828, 48.15789794921875, 84.80329895019531, 82.9035415649414, 46.50042724609375, 114.25602722167969, 115.64496612548828, 119.47836303710938, 102.86028289794922, 73.09075164794922, 40.15980529785156, 118.0272445678711, 48.79309844970703, 100.27100372314453, 115.28333282470703, 83.73827362060547, 119.06253814697266, 102.64484405517578, 5.955504417419434, -43.296607971191406, 116.44966125488281, 122.00823974609375, -42.57439041137695, 100.68426513671875, 80.83463287353516, 116.78557586669922, 102.88858032226562, 105.44232940673828, 85.87904357910156, 81.92171478271484, 69.19928741455078, 47.43574142456055, 50.33116149902344, 114.87053680419922, 116.73416137695312, 120.17728424072266, 113.48262023925781, 101.4879379272461, 86.49415588378906, 81.92229461669922, 63.001312255859375, -24.642545700073242, 84.88470458984375, 87.03117370605469, 81.91480255126953, 103.5070571899414, 79.40807342529297, 78.39786529541016, 40.14057159423828, 102.52642059326172, 110.91832733154297, 84.33317565917969, 108.80158233642578, 112.46762084960938, 100.61212158203125, 29.953134536743164, 107.00078582763672, 99.95755767822266, 84.63793182373047, 105.03341674804688, 104.44234466552734, 109.7070083618164, 85.66575622558594, 107.6530990600586, 84.05162048339844, 85.72390747070312], \"yaxis\": \"y\"}, {\"hovertemplate\": \"color=Donic-Baracuda<br>x=%{x}<br>y=%{y}<extra></extra>\", \"legendgroup\": \"Donic-Baracuda\", \"marker\": {\"color\": \"#ab63fa\", \"symbol\": \"circle\"}, \"mode\": \"markers\", \"name\": \"Donic-Baracuda\", \"orientation\": \"v\", \"showlegend\": true, \"type\": \"scatter\", \"x\": [106.08595275878906, 111.59552764892578, 106.29837799072266, 110.0301513671875, 107.54518127441406, 111.09952545166016, 99.33606719970703, 97.05069732666016, 101.876953125, 100.81196594238281, -35.857261657714844, 105.65223693847656, 114.24103546142578, 98.58621978759766, 94.98307037353516, 89.57910919189453, 104.67654418945312, 113.82273864746094, 97.8110580444336, 98.53519439697266, 96.20297241210938], \"xaxis\": \"x\", \"y\": [-123.23789978027344, -138.5939178466797, -121.63951873779297, -138.26316833496094, -122.60979461669922, -137.0751495361328, -118.50165557861328, -121.14502716064453, -116.46846771240234, -119.64822387695312, -9.307476043701172, -109.62855529785156, -124.580078125, -116.42084503173828, -119.41275787353516, -106.51065826416016, -109.13883209228516, -125.59225463867188, -114.46581268310547, -120.08585357666016, -123.5018081665039], \"yaxis\": \"y\"}, {\"hovertemplate\": \"color=Tibhar-Evolution-MX-P<br>x=%{x}<br>y=%{y}<extra></extra>\", \"legendgroup\": \"Tibhar-Evolution-MX-P\", \"marker\": {\"color\": \"#FFA15A\", \"symbol\": \"circle\"}, \"mode\": \"markers\", \"name\": \"Tibhar-Evolution-MX-P\", \"orientation\": \"v\", \"showlegend\": true, \"type\": \"scatter\", \"x\": [-93.5421142578125, 79.1961441040039, 67.51069641113281, -77.76964569091797, -92.15975189208984, -103.17915344238281, -102.36499786376953, 79.3490219116211, 67.18569946289062, -94.90190124511719, -79.60232543945312, -95.84754943847656, -9.775626182556152, -75.09335327148438, -105.56338500976562, -96.51573181152344, -73.88138580322266, -76.69876098632812, -89.739013671875, -67.17453002929688, -101.93219757080078, -91.74557495117188, -88.54363250732422, -91.47869873046875], \"xaxis\": \"x\", \"y\": [14.716815948486328, -26.425806045532227, 37.89764404296875, -10.991142272949219, 13.806192398071289, 17.21729278564453, 22.58745574951172, -27.497098922729492, 36.8973503112793, 19.236886978149414, -10.80436897277832, 15.487298011779785, 125.61624908447266, 3.2137606143951416, 16.609336853027344, 12.11142635345459, 2.82886004447937, -0.3443165719509125, -6.767388820648193, -9.860841751098633, 20.79569435119629, 40.7662353515625, 17.408323287963867, 17.301651000976562], \"yaxis\": \"y\"}, {\"hovertemplate\": \"color=DHS-Hurricane-2<br>x=%{x}<br>y=%{y}<extra></extra>\", \"legendgroup\": \"DHS-Hurricane-2\", \"marker\": {\"color\": \"#19d3f3\", \"symbol\": \"circle\"}, \"mode\": \"markers\", \"name\": \"DHS-Hurricane-2\", \"orientation\": \"v\", \"showlegend\": true, \"type\": \"scatter\", \"x\": [-129.16871643066406, -23.55394744873047, -21.5583438873291, -23.142805099487305, -23.246826171875, -54.23771667480469, -24.36734390258789, -20.182636260986328, -53.23222351074219, -23.901073455810547], \"xaxis\": \"x\", \"y\": [-42.335960388183594, -56.263004302978516, -57.0343017578125, -38.369441986083984, -35.92887496948242, -82.04483795166016, -50.209564208984375, 11.732160568237305, -78.30284881591797, -49.066829681396484], \"yaxis\": \"y\"}, {\"hovertemplate\": \"color=Tensor-rubbers<br>x=%{x}<br>y=%{y}<extra></extra>\", \"legendgroup\": \"Tensor-rubbers\", \"marker\": {\"color\": \"#FF6692\", \"symbol\": \"circle\"}, \"mode\": \"markers\", \"name\": \"Tensor-rubbers\", \"orientation\": \"v\", \"showlegend\": true, \"type\": \"scatter\", \"x\": [-18.092403411865234, -59.01727294921875, 2.9698922634124756, -38.27690505981445, -49.54618453979492, 48.748985290527344, 34.97484588623047, 38.88043212890625, 9.688305854797363, 69.55902862548828, -87.70816802978516, 39.447059631347656, -50.638980865478516, 47.662864685058594, 41.02675247192383, 34.04902267456055, 39.62895965576172, 8.069762229919434, 8.988648414611816], \"xaxis\": \"x\", \"y\": [98.9297103881836, -38.13979721069336, -43.82350158691406, 68.72015380859375, 93.11969757080078, 39.94933319091797, 31.78921890258789, 39.01662063598633, -32.179378509521484, 41.114315032958984, 27.27779197692871, 25.15656089782715, 93.07689666748047, 39.86446762084961, 27.874561309814453, 31.219911575317383, 38.22764587402344, -29.37238121032715, -30.16353416442871], \"yaxis\": \"y\"}, {\"hovertemplate\": \"color=DHS-Hurricane-3<br>x=%{x}<br>y=%{y}<extra></extra>\", \"legendgroup\": \"DHS-Hurricane-3\", \"marker\": {\"color\": \"#B6E880\", \"symbol\": \"circle\"}, \"mode\": \"markers\", \"name\": \"DHS-Hurricane-3\", \"orientation\": \"v\", \"showlegend\": true, \"type\": \"scatter\", \"x\": [-40.69717025756836, 70.5953140258789, -26.84626579284668, -44.11027145385742, -79.63983917236328, -14.248364448547363, -131.11289978027344, -25.210355758666992, -60.138641357421875, -36.42059326171875, -49.76428985595703, -35.93355178833008, 68.15111541748047, -17.786617279052734, 118.46958923339844, -26.5201473236084, -12.817155838012695, -30.323246002197266, -31.903358459472656, -27.602182388305664, -83.07356262207031, -34.95201873779297, -42.218536376953125, -12.793320655822754, -50.14300537109375, -34.99958801269531, -36.005279541015625, -52.454132080078125, -46.02937316894531, -17.912887573242188, -59.60267639160156, -48.35370635986328, -80.2934799194336, -82.85182189941406, -19.058340072631836, -30.148096084594727, -28.702817916870117, -11.997048377990723, -16.39413833618164, -83.03097534179688, -24.806739807128906, -58.56583786010742, -29.849821090698242, -37.16878128051758, -49.60807418823242, -36.53628158569336, 69.2232894897461, -16.759584426879883, 119.24205780029297, -27.201303482055664, -49.45990753173828, -38.70320510864258, -12.617494583129883, -24.240650177001953, -23.058923721313477, -63.48176956176758, -44.870296478271484, -17.181137084960938, -17.489994049072266, 68.22635650634766, -31.081422805786133, -62.24632263183594, -4.343254089355469, -41.76911163330078, -26.404386520385742, -32.09033966064453, -29.393535614013672, -113.78458404541016, 10.012253761291504, -113.78473663330078, -21.601118087768555, -80.9828109741211, -27.71673011779785, -25.098106384277344, -50.63836669921875, -16.458486557006836, -59.09798812866211, -51.159542083740234, -44.6547737121582, -41.431331634521484, -30.962249755859375, -30.243467330932617, -34.959171295166016], \"xaxis\": \"x\", \"y\": [-82.51483917236328, 22.476898193359375, -72.86228942871094, -68.02632904052734, -107.96428680419922, -76.6468734741211, -41.43354415893555, -95.03175354003906, -145.1970977783203, -100.46956634521484, -109.95779418945312, -136.37335205078125, 26.154151916503906, -77.00569152832031, -10.42216682434082, -116.23297882080078, -89.98702239990234, -73.08234405517578, -75.16926574707031, -94.10978698730469, -111.5932846069336, -137.63719177246094, -100.32118225097656, -108.05401611328125, -85.78376007080078, -90.80986022949219, -90.19440460205078, -109.66625213623047, -104.93326568603516, -59.389564514160156, -143.68971252441406, -67.6715087890625, -110.42757415771484, -110.30657958984375, -58.672367095947266, -114.24010467529297, -115.23757934570312, -107.30880737304688, -61.65794372558594, -108.14984893798828, -94.06597900390625, -144.90756225585938, -93.79177856445312, -99.65214538574219, -108.94884490966797, -137.85491943359375, 26.014657974243164, -76.87041473388672, -11.194052696228027, -117.11376190185547, -87.85819244384766, 15.3429536819458, -91.05621337890625, -88.39083862304688, -79.96546936035156, -98.46456146240234, -65.45028686523438, -71.95475006103516, -74.21636962890625, 23.490753173828125, -60.73019790649414, -97.68372344970703, -62.94814682006836, -101.46369934082031, -98.68646240234375, -83.61515808105469, -71.91233825683594, 48.45895004272461, -15.474957466125488, 50.10110092163086, -77.7341537475586, -113.77313232421875, -82.10102081298828, -91.38520812988281, -106.87686157226562, -80.07467651367188, -66.42816162109375, -84.70260620117188, -96.35400390625, -83.71820068359375, -58.749691009521484, -82.31573486328125, -98.1791763305664], \"yaxis\": \"y\"}, {\"hovertemplate\": \"color=Yasaka-Rakza-7<br>x=%{x}<br>y=%{y}<extra></extra>\", \"legendgroup\": \"Yasaka-Rakza-7\", \"marker\": {\"color\": \"#FF97FF\", \"symbol\": \"circle\"}, \"mode\": \"markers\", \"name\": \"Yasaka-Rakza-7\", \"orientation\": \"v\", \"showlegend\": true, \"type\": \"scatter\", \"x\": [67.35610961914062, 72.99185180664062, 68.78341674804688, 67.8910140991211, 77.42955780029297, 61.0908317565918, 73.43714904785156, 72.27728271484375, 67.79653930664062, 69.10546875, -28.99381446838379, 77.10357666015625, 71.00830078125], \"xaxis\": \"x\", \"y\": [-65.72994232177734, -63.81070327758789, -62.09356689453125, -63.352779388427734, -66.98670959472656, -56.53355407714844, -60.6191291809082, -58.22528839111328, -52.879085540771484, -60.58901596069336, -57.615379333496094, -65.97976684570312, -60.73725509643555], \"yaxis\": \"y\"}, {\"hovertemplate\": \"color=Tibhar-Evolution-MX-S<br>x=%{x}<br>y=%{y}<extra></extra>\", \"legendgroup\": \"Tibhar-Evolution-MX-S\", \"marker\": {\"color\": \"#FECB52\", \"symbol\": \"circle\"}, \"mode\": \"markers\", \"name\": \"Tibhar-Evolution-MX-S\", \"orientation\": \"v\", \"showlegend\": true, \"type\": \"scatter\", \"x\": [-38.1856689453125, -71.33463287353516, -67.87693786621094, 112.21819305419922, -78.54953002929688, -73.81452178955078, -95.79756927490234, -86.81312561035156, -67.58645629882812, -83.72125244140625, -67.96643829345703, -75.17737579345703, -67.58645629882812, -66.88766479492188, 111.15453338623047, -77.52458953857422, -74.44974517822266, -95.95577239990234, -95.845458984375, -80.0677490234375, -82.17102813720703, -82.48870086669922, -64.38492584228516, -111.37550354003906, -86.46062469482422, -92.874267578125, -38.088951110839844, -35.950435638427734, -110.85903930664062, -95.2390365600586, -84.65813446044922, -90.68977355957031, -76.49056243896484, -33.87568664550781, -109.83566284179688, -76.43016052246094, -89.66423034667969, -87.5190200805664, -109.31161499023438], \"xaxis\": \"x\", \"y\": [-67.25674438476562, -12.497474670410156, -12.848004341125488, 58.48468017578125, -20.00006675720215, -13.192389488220215, 5.200070381164551, 13.057443618774414, -0.2535867691040039, 17.1077880859375, -15.54355525970459, 12.79342269897461, -0.2535867691040039, -13.318418502807617, 58.71595001220703, -20.419273376464844, -12.275341033935547, 4.109637260437012, 23.877750396728516, 5.5935750007629395, 6.657079696655273, 12.27399730682373, -12.68151569366455, -3.941523313522339, 15.772388458251953, 10.720921516418457, -65.29855346679688, -62.539154052734375, -5.532081604003906, 22.683012008666992, 12.236180305480957, 21.90232276916504, 12.57848072052002, -68.52603912353516, -7.882389545440674, 1.4206833839416504, 12.872722625732422, 19.76612091064453, -4.905066013336182], \"yaxis\": \"y\"}, {\"hovertemplate\": \"color=Chinese-rubbers<br>x=%{x}<br>y=%{y}<extra></extra>\", \"legendgroup\": \"Chinese-rubbers\", \"marker\": {\"color\": \"#636efa\", \"symbol\": \"circle\"}, \"mode\": \"markers\", \"name\": \"Chinese-rubbers\", \"orientation\": \"v\", \"showlegend\": true, \"type\": \"scatter\", \"x\": [35.12977981567383, 16.34024429321289, 26.975160598754883, 98.11439514160156, 87.80941772460938, 104.5584945678711, 9.402146339416504, 104.26923370361328, 87.16690826416016, 97.8607177734375, 63.992496490478516, 94.5480728149414, 102.00025177001953, 84.56822204589844, 33.535404205322266, 88.39110565185547, 101.8160171508789, 21.934856414794922, 102.74833679199219, 98.46646118164062, 116.84445190429688, 106.01272583007812, 103.13603210449219, 95.17620086669922, 93.78050994873047, 28.62188148498535, 108.25204467773438, 106.67208862304688, 91.29328155517578, 115.51737213134766, 94.08516693115234, 4.022974014282227, 21.536842346191406, 101.61619567871094, 84.5546646118164, 32.54768371582031, 23.78968048095703, 88.86299133300781, 115.40528869628906, 22.067895889282227, 4.1135053634643555, 25.48550033569336, 23.66691017150879], \"xaxis\": \"x\", \"y\": [-31.076539993286133, -47.193748474121094, -40.53601837158203, 46.72707748413086, 24.452341079711914, 32.51824951171875, -40.44112014770508, 39.36714172363281, 22.544742584228516, 38.65056610107422, 45.683616638183594, 35.57829284667969, 40.229732513427734, 42.77664566040039, -53.509490966796875, 32.46363067626953, 36.554656982421875, -27.512767791748047, 42.619956970214844, 35.11894607543945, 36.29446792602539, 37.46672821044922, 33.89908981323242, 39.00196075439453, 32.302608489990234, -41.436256408691406, 44.64430236816406, 43.104427337646484, 31.341537475585938, 37.18901824951172, 34.48874282836914, -46.52680587768555, -40.16008758544922, 39.2957649230957, 43.86545944213867, -53.975425720214844, -43.696311950683594, 33.46858215332031, 35.586334228515625, -8.626786231994629, -49.19899368286133, -41.19090270996094, -41.787208557128906], \"yaxis\": \"y\"}, {\"hovertemplate\": \"color=Tibhar-Evolution-EL-S<br>x=%{x}<br>y=%{y}<extra></extra>\", \"legendgroup\": \"Tibhar-Evolution-EL-S\", \"marker\": {\"color\": \"#EF553B\", \"symbol\": \"circle\"}, \"mode\": \"markers\", \"name\": \"Tibhar-Evolution-EL-S\", \"orientation\": \"v\", \"showlegend\": true, \"type\": \"scatter\", \"x\": [-6.600694179534912, -5.6677751541137695, -7.3521952629089355, -7.31104850769043, -13.68249225616455, -10.61706256866455, -12.280184745788574, 62.07619094848633, -8.548063278198242, -10.528804779052734, -8.515886306762695, -0.42368215322494507, 19.571163177490234, -1.1115772724151611, -11.935593605041504, -13.914238929748535], \"xaxis\": \"x\", \"y\": [49.09480285644531, 49.847198486328125, 46.15416717529297, 42.4574089050293, 61.96684265136719, 64.0215835571289, 63.289974212646484, 45.130035400390625, 64.55591583251953, 58.86882400512695, 54.88795471191406, 61.759315490722656, -23.53481674194336, 60.859283447265625, 60.45667266845703, 59.326995849609375], \"yaxis\": \"y\"}, {\"hovertemplate\": \"color=Butterfly-Tenergy-05-FX<br>x=%{x}<br>y=%{y}<extra></extra>\", \"legendgroup\": \"Butterfly-Tenergy-05-FX\", \"marker\": {\"color\": \"#00cc96\", \"symbol\": \"circle\"}, \"mode\": \"markers\", \"name\": \"Butterfly-Tenergy-05-FX\", \"orientation\": \"v\", \"showlegend\": true, \"type\": \"scatter\", \"x\": [-58.43528366088867, -33.040550231933594, 21.555200576782227, -56.34526062011719, -44.31488037109375, 12.308419227600098, -39.25210952758789, 32.810054779052734, -51.552589416503906, -48.70598602294922, 22.611867904663086], \"xaxis\": \"x\", \"y\": [32.98847961425781, -56.07191848754883, 84.9566879272461, 33.6975212097168, 16.245851516723633, 91.6239242553711, -38.67475128173828, 113.13009643554688, 9.722618103027344, 125.24056243896484, -5.754697799682617], \"yaxis\": \"y\"}, {\"hovertemplate\": \"color=Butterfly-Tenergy-64<br>x=%{x}<br>y=%{y}<extra></extra>\", \"legendgroup\": \"Butterfly-Tenergy-64\", \"marker\": {\"color\": \"#ab63fa\", \"symbol\": \"circle\"}, \"mode\": \"markers\", \"name\": \"Butterfly-Tenergy-64\", \"orientation\": \"v\", \"showlegend\": true, \"type\": \"scatter\", \"x\": [-48.0623893737793, -53.45935821533203, -64.77586364746094, -60.861324310302734, 19.90999984741211, -65.72215270996094, -55.227928161621094, -57.18048858642578, -40.34431838989258, -41.60646438598633, -64.25109100341797, -66.23848724365234, -59.49199295043945, -30.5579833984375, -43.879798889160156, -66.07818603515625, -60.77863693237305, -48.745418548583984, -43.0305061340332, -46.805538177490234, -41.62725830078125], \"xaxis\": \"x\", \"y\": [72.66573333740234, 68.01510620117188, 80.95198822021484, 67.52092742919922, 86.25260162353516, 68.5536117553711, 65.76509857177734, 64.30009460449219, 69.65792083740234, 70.591552734375, 68.14715576171875, 81.6094970703125, 66.87599182128906, 49.34340286254883, 76.14965057373047, 80.0168228149414, 65.92880249023438, 77.05510711669922, 77.10785675048828, 74.25706481933594, 78.77350616455078], \"yaxis\": \"y\"}, {\"hovertemplate\": \"color=Yasaka-Mark-V<br>x=%{x}<br>y=%{y}<extra></extra>\", \"legendgroup\": \"Yasaka-Mark-V\", \"marker\": {\"color\": \"#FFA15A\", \"symbol\": \"circle\"}, \"mode\": \"markers\", \"name\": \"Yasaka-Mark-V\", \"orientation\": \"v\", \"showlegend\": true, \"type\": \"scatter\", \"x\": [21.245832443237305, 31.31153106689453, 13.825851440429688, 19.622644424438477, -82.00770568847656, 27.270214080810547, 21.238670349121094, 23.569711685180664, 11.836575508117676, 13.484406471252441, 14.52490520477295, 21.82754898071289, 31.848037719726562, 13.433015823364258, 20.65239906311035, -80.92029571533203, 18.75652313232422, 27.280302047729492, 21.238670349121094, 23.038246154785156, 24.45345115661621, 11.685275077819824], \"xaxis\": \"x\", \"y\": [-146.51217651367188, -143.85812377929688, -150.57130432128906, -154.1529083251953, -55.5623893737793, -147.9355010986328, -143.30149841308594, -136.84820556640625, -140.0499725341797, -130.7960662841797, -130.4954376220703, -139.5926055908203, -144.83599853515625, -149.5572052001953, -154.51150512695312, -55.56229019165039, -143.9905242919922, -146.83242797851562, -143.30149841308594, -145.5078887939453, -137.473388671875, -141.12359619140625], \"yaxis\": \"y\"}, {\"hovertemplate\": \"color=Donic-Bluefire-M2<br>x=%{x}<br>y=%{y}<extra></extra>\", \"legendgroup\": \"Donic-Bluefire-M2\", \"marker\": {\"color\": \"#19d3f3\", \"symbol\": \"circle\"}, \"mode\": \"markers\", \"name\": \"Donic-Bluefire-M2\", \"orientation\": \"v\", \"showlegend\": true, \"type\": \"scatter\", \"x\": [-75.03670501708984, -63.0862922668457, -21.179996490478516, -73.25982666015625, -100.64643859863281, -74.12411499023438, -101.22785949707031, -89.24877166748047, -63.124488830566406], \"xaxis\": \"x\", \"y\": [42.04206848144531, -65.84064483642578, -34.660247802734375, 43.73393630981445, -44.018760681152344, 41.43357467651367, -43.10597610473633, -30.84046745300293, -66.92586517333984], \"yaxis\": \"y\"}, {\"hovertemplate\": \"color=Xiom-Vega-Japan<br>x=%{x}<br>y=%{y}<extra></extra>\", \"legendgroup\": \"Xiom-Vega-Japan\", \"marker\": {\"color\": \"#FF6692\", \"symbol\": \"circle\"}, \"mode\": \"markers\", \"name\": \"Xiom-Vega-Japan\", \"orientation\": \"v\", \"showlegend\": true, \"type\": \"scatter\", \"x\": [106.65635681152344, 105.48043060302734, 94.55488586425781, 105.24738311767578, 95.6259536743164, 91.6757583618164, 95.40770721435547, 95.97950744628906, 107.56726837158203, 95.62377166748047, 107.75525665283203, 95.47272491455078], \"xaxis\": \"x\", \"y\": [12.180059432983398, -33.2150993347168, -26.495922088623047, -34.2728385925293, -26.581317901611328, -27.463512420654297, -18.83689308166504, -24.12228012084961, 12.779437065124512, -17.727136611938477, -34.53375244140625, -28.894638061523438], \"yaxis\": \"y\"}, {\"hovertemplate\": \"color=Andro-Roxon-450<br>x=%{x}<br>y=%{y}<extra></extra>\", \"legendgroup\": \"Andro-Roxon-450\", \"marker\": {\"color\": \"#B6E880\", \"symbol\": \"circle\"}, \"mode\": \"markers\", \"name\": \"Andro-Roxon-450\", \"orientation\": \"v\", \"showlegend\": true, \"type\": \"scatter\", \"x\": [-104.44042205810547, 4.872636318206787, -3.4299042224884033, -1.0274664163589478, 4.894211292266846, 7.036357402801514, -105.95668029785156, -6.345932960510254, -105.63300323486328, -5.282366752624512, 3.7958900928497314, 5.527716159820557, -2.648679256439209], \"xaxis\": \"x\", \"y\": [105.62224578857422, 11.966291427612305, 8.208269119262695, 6.662778377532959, 14.428802490234375, 6.6340436935424805, 106.12435913085938, 16.048110961914062, 104.55957794189453, 16.31804656982422, 12.085110664367676, 7.877828598022461, 6.733504295349121], \"yaxis\": \"y\"}, {\"hovertemplate\": \"color=Butterfly-Bryce<br>x=%{x}<br>y=%{y}<extra></extra>\", \"legendgroup\": \"Butterfly-Bryce\", \"marker\": {\"color\": \"#FF97FF\", \"symbol\": \"circle\"}, \"mode\": \"markers\", \"name\": \"Butterfly-Bryce\", \"orientation\": \"v\", \"showlegend\": true, \"type\": \"scatter\", \"x\": [54.42726516723633, 51.029869079589844, 20.403242111206055, -56.11471939086914, 54.5753059387207, 98.41764831542969, 53.120269775390625, 33.070579528808594, 50.58945846557617, 19.316720962524414, 52.78267288208008, 53.37564468383789], \"xaxis\": \"x\", \"y\": [-0.6434881687164307, -10.288010597229004, -66.16686248779297, -83.30183410644531, -2.2379801273345947, 51.30870819091797, -1.5646147727966309, -31.71955108642578, -11.311781883239746, -66.10786437988281, -13.347697257995605, -11.255098342895508], \"yaxis\": \"y\"}, {\"hovertemplate\": \"color=DHS-Hurricane-3-50<br>x=%{x}<br>y=%{y}<extra></extra>\", \"legendgroup\": \"DHS-Hurricane-3-50\", \"marker\": {\"color\": \"#FECB52\", \"symbol\": \"circle\"}, \"mode\": \"markers\", \"name\": \"DHS-Hurricane-3-50\", \"orientation\": \"v\", \"showlegend\": true, \"type\": \"scatter\", \"x\": [-66.57293701171875, -87.43347930908203, -85.42023468017578, -84.1258773803711, -52.874759674072266, -67.74868774414062, -52.580413818359375, -55.69294738769531, -41.402957916259766, -46.528167724609375, -53.28571701049805, -39.3531494140625, -51.354698181152344, -85.1227035522461], \"xaxis\": \"x\", \"y\": [-100.55035400390625, -80.05154418945312, -82.03470611572266, -84.021728515625, -46.80706024169922, -101.7757797241211, -49.10276794433594, -43.59828186035156, -56.63203048706055, -56.206581115722656, -51.570960998535156, 0.6232166886329651, -49.73737335205078, -80.90916442871094], \"yaxis\": \"y\"}],                        {\"legend\": {\"title\": {\"text\": \"color\"}, \"tracegroupgap\": 0}, \"margin\": {\"t\": 60}, \"template\": {\"data\": {\"bar\": [{\"error_x\": {\"color\": \"#2a3f5f\"}, \"error_y\": {\"color\": \"#2a3f5f\"}, \"marker\": {\"line\": {\"color\": \"#E5ECF6\", \"width\": 0.5}}, \"type\": \"bar\"}], \"barpolar\": [{\"marker\": {\"line\": {\"color\": \"#E5ECF6\", \"width\": 0.5}}, \"type\": \"barpolar\"}], \"carpet\": [{\"aaxis\": {\"endlinecolor\": \"#2a3f5f\", \"gridcolor\": \"white\", \"linecolor\": \"white\", \"minorgridcolor\": \"white\", \"startlinecolor\": \"#2a3f5f\"}, \"baxis\": {\"endlinecolor\": \"#2a3f5f\", \"gridcolor\": \"white\", \"linecolor\": \"white\", \"minorgridcolor\": \"white\", \"startlinecolor\": \"#2a3f5f\"}, \"type\": \"carpet\"}], \"choropleth\": [{\"colorbar\": {\"outlinewidth\": 0, \"ticks\": \"\"}, \"type\": \"choropleth\"}], \"contour\": [{\"colorbar\": {\"outlinewidth\": 0, \"ticks\": \"\"}, \"colorscale\": [[0.0, \"#0d0887\"], [0.1111111111111111, \"#46039f\"], [0.2222222222222222, \"#7201a8\"], [0.3333333333333333, \"#9c179e\"], [0.4444444444444444, \"#bd3786\"], [0.5555555555555556, \"#d8576b\"], [0.6666666666666666, \"#ed7953\"], [0.7777777777777778, \"#fb9f3a\"], [0.8888888888888888, \"#fdca26\"], [1.0, \"#f0f921\"]], \"type\": \"contour\"}], \"contourcarpet\": [{\"colorbar\": {\"outlinewidth\": 0, \"ticks\": \"\"}, \"type\": \"contourcarpet\"}], \"heatmap\": [{\"colorbar\": {\"outlinewidth\": 0, \"ticks\": \"\"}, \"colorscale\": [[0.0, \"#0d0887\"], [0.1111111111111111, \"#46039f\"], [0.2222222222222222, \"#7201a8\"], [0.3333333333333333, \"#9c179e\"], [0.4444444444444444, \"#bd3786\"], [0.5555555555555556, \"#d8576b\"], [0.6666666666666666, \"#ed7953\"], [0.7777777777777778, \"#fb9f3a\"], [0.8888888888888888, \"#fdca26\"], [1.0, \"#f0f921\"]], \"type\": \"heatmap\"}], \"heatmapgl\": [{\"colorbar\": {\"outlinewidth\": 0, \"ticks\": \"\"}, \"colorscale\": [[0.0, \"#0d0887\"], [0.1111111111111111, \"#46039f\"], [0.2222222222222222, \"#7201a8\"], [0.3333333333333333, \"#9c179e\"], [0.4444444444444444, \"#bd3786\"], [0.5555555555555556, \"#d8576b\"], [0.6666666666666666, \"#ed7953\"], [0.7777777777777778, \"#fb9f3a\"], [0.8888888888888888, \"#fdca26\"], [1.0, \"#f0f921\"]], \"type\": \"heatmapgl\"}], \"histogram\": [{\"marker\": {\"colorbar\": {\"outlinewidth\": 0, \"ticks\": \"\"}}, \"type\": \"histogram\"}], \"histogram2d\": [{\"colorbar\": {\"outlinewidth\": 0, \"ticks\": \"\"}, \"colorscale\": [[0.0, \"#0d0887\"], [0.1111111111111111, \"#46039f\"], [0.2222222222222222, \"#7201a8\"], [0.3333333333333333, \"#9c179e\"], [0.4444444444444444, \"#bd3786\"], [0.5555555555555556, \"#d8576b\"], [0.6666666666666666, \"#ed7953\"], [0.7777777777777778, \"#fb9f3a\"], [0.8888888888888888, \"#fdca26\"], [1.0, \"#f0f921\"]], \"type\": \"histogram2d\"}], \"histogram2dcontour\": [{\"colorbar\": {\"outlinewidth\": 0, \"ticks\": \"\"}, \"colorscale\": [[0.0, \"#0d0887\"], [0.1111111111111111, \"#46039f\"], [0.2222222222222222, \"#7201a8\"], [0.3333333333333333, \"#9c179e\"], [0.4444444444444444, \"#bd3786\"], [0.5555555555555556, \"#d8576b\"], [0.6666666666666666, \"#ed7953\"], [0.7777777777777778, \"#fb9f3a\"], [0.8888888888888888, \"#fdca26\"], [1.0, \"#f0f921\"]], \"type\": \"histogram2dcontour\"}], \"mesh3d\": [{\"colorbar\": {\"outlinewidth\": 0, \"ticks\": \"\"}, \"type\": \"mesh3d\"}], \"parcoords\": [{\"line\": {\"colorbar\": {\"outlinewidth\": 0, \"ticks\": \"\"}}, \"type\": \"parcoords\"}], \"pie\": [{\"automargin\": true, \"type\": \"pie\"}], \"scatter\": [{\"marker\": {\"colorbar\": {\"outlinewidth\": 0, \"ticks\": \"\"}}, \"type\": \"scatter\"}], \"scatter3d\": [{\"line\": {\"colorbar\": {\"outlinewidth\": 0, \"ticks\": \"\"}}, \"marker\": {\"colorbar\": {\"outlinewidth\": 0, \"ticks\": \"\"}}, \"type\": \"scatter3d\"}], \"scattercarpet\": [{\"marker\": {\"colorbar\": {\"outlinewidth\": 0, \"ticks\": \"\"}}, \"type\": \"scattercarpet\"}], \"scattergeo\": [{\"marker\": {\"colorbar\": {\"outlinewidth\": 0, \"ticks\": \"\"}}, \"type\": \"scattergeo\"}], \"scattergl\": [{\"marker\": {\"colorbar\": {\"outlinewidth\": 0, \"ticks\": \"\"}}, \"type\": \"scattergl\"}], \"scattermapbox\": [{\"marker\": {\"colorbar\": {\"outlinewidth\": 0, \"ticks\": \"\"}}, \"type\": \"scattermapbox\"}], \"scatterpolar\": [{\"marker\": {\"colorbar\": {\"outlinewidth\": 0, \"ticks\": \"\"}}, \"type\": \"scatterpolar\"}], \"scatterpolargl\": [{\"marker\": {\"colorbar\": {\"outlinewidth\": 0, \"ticks\": \"\"}}, \"type\": \"scatterpolargl\"}], \"scatterternary\": [{\"marker\": {\"colorbar\": {\"outlinewidth\": 0, \"ticks\": \"\"}}, \"type\": \"scatterternary\"}], \"surface\": [{\"colorbar\": {\"outlinewidth\": 0, \"ticks\": \"\"}, \"colorscale\": [[0.0, \"#0d0887\"], [0.1111111111111111, \"#46039f\"], [0.2222222222222222, \"#7201a8\"], [0.3333333333333333, \"#9c179e\"], [0.4444444444444444, \"#bd3786\"], [0.5555555555555556, \"#d8576b\"], [0.6666666666666666, \"#ed7953\"], [0.7777777777777778, \"#fb9f3a\"], [0.8888888888888888, \"#fdca26\"], [1.0, \"#f0f921\"]], \"type\": \"surface\"}], \"table\": [{\"cells\": {\"fill\": {\"color\": \"#EBF0F8\"}, \"line\": {\"color\": \"white\"}}, \"header\": {\"fill\": {\"color\": \"#C8D4E3\"}, \"line\": {\"color\": \"white\"}}, \"type\": \"table\"}]}, \"layout\": {\"annotationdefaults\": {\"arrowcolor\": \"#2a3f5f\", \"arrowhead\": 0, \"arrowwidth\": 1}, \"autotypenumbers\": \"strict\", \"coloraxis\": {\"colorbar\": {\"outlinewidth\": 0, \"ticks\": \"\"}}, \"colorscale\": {\"diverging\": [[0, \"#8e0152\"], [0.1, \"#c51b7d\"], [0.2, \"#de77ae\"], [0.3, \"#f1b6da\"], [0.4, \"#fde0ef\"], [0.5, \"#f7f7f7\"], [0.6, \"#e6f5d0\"], [0.7, \"#b8e186\"], [0.8, \"#7fbc41\"], [0.9, \"#4d9221\"], [1, \"#276419\"]], \"sequential\": [[0.0, \"#0d0887\"], [0.1111111111111111, \"#46039f\"], [0.2222222222222222, \"#7201a8\"], [0.3333333333333333, \"#9c179e\"], [0.4444444444444444, \"#bd3786\"], [0.5555555555555556, \"#d8576b\"], [0.6666666666666666, \"#ed7953\"], [0.7777777777777778, \"#fb9f3a\"], [0.8888888888888888, \"#fdca26\"], [1.0, \"#f0f921\"]], \"sequentialminus\": [[0.0, \"#0d0887\"], [0.1111111111111111, \"#46039f\"], [0.2222222222222222, \"#7201a8\"], [0.3333333333333333, \"#9c179e\"], [0.4444444444444444, \"#bd3786\"], [0.5555555555555556, \"#d8576b\"], [0.6666666666666666, \"#ed7953\"], [0.7777777777777778, \"#fb9f3a\"], [0.8888888888888888, \"#fdca26\"], [1.0, \"#f0f921\"]]}, \"colorway\": [\"#636efa\", \"#EF553B\", \"#00cc96\", \"#ab63fa\", \"#FFA15A\", \"#19d3f3\", \"#FF6692\", \"#B6E880\", \"#FF97FF\", \"#FECB52\"], \"font\": {\"color\": \"#2a3f5f\"}, \"geo\": {\"bgcolor\": \"white\", \"lakecolor\": \"white\", \"landcolor\": \"#E5ECF6\", \"showlakes\": true, \"showland\": true, \"subunitcolor\": \"white\"}, \"hoverlabel\": {\"align\": \"left\"}, \"hovermode\": \"closest\", \"mapbox\": {\"style\": \"light\"}, \"paper_bgcolor\": \"white\", \"plot_bgcolor\": \"#E5ECF6\", \"polar\": {\"angularaxis\": {\"gridcolor\": \"white\", \"linecolor\": \"white\", \"ticks\": \"\"}, \"bgcolor\": \"#E5ECF6\", \"radialaxis\": {\"gridcolor\": \"white\", \"linecolor\": \"white\", \"ticks\": \"\"}}, \"scene\": {\"xaxis\": {\"backgroundcolor\": \"#E5ECF6\", \"gridcolor\": \"white\", \"gridwidth\": 2, \"linecolor\": \"white\", \"showbackground\": true, \"ticks\": \"\", \"zerolinecolor\": \"white\"}, \"yaxis\": {\"backgroundcolor\": \"#E5ECF6\", \"gridcolor\": \"white\", \"gridwidth\": 2, \"linecolor\": \"white\", \"showbackground\": true, \"ticks\": \"\", \"zerolinecolor\": \"white\"}, \"zaxis\": {\"backgroundcolor\": \"#E5ECF6\", \"gridcolor\": \"white\", \"gridwidth\": 2, \"linecolor\": \"white\", \"showbackground\": true, \"ticks\": \"\", \"zerolinecolor\": \"white\"}}, \"shapedefaults\": {\"line\": {\"color\": \"#2a3f5f\"}}, \"ternary\": {\"aaxis\": {\"gridcolor\": \"white\", \"linecolor\": \"white\", \"ticks\": \"\"}, \"baxis\": {\"gridcolor\": \"white\", \"linecolor\": \"white\", \"ticks\": \"\"}, \"bgcolor\": \"#E5ECF6\", \"caxis\": {\"gridcolor\": \"white\", \"linecolor\": \"white\", \"ticks\": \"\"}}, \"title\": {\"x\": 0.05}, \"xaxis\": {\"automargin\": true, \"gridcolor\": \"white\", \"linecolor\": \"white\", \"ticks\": \"\", \"title\": {\"standoff\": 15}, \"zerolinecolor\": \"white\", \"zerolinewidth\": 2}, \"yaxis\": {\"automargin\": true, \"gridcolor\": \"white\", \"linecolor\": \"white\", \"ticks\": \"\", \"title\": {\"standoff\": 15}, \"zerolinecolor\": \"white\", \"zerolinewidth\": 2}}}, \"xaxis\": {\"anchor\": \"y\", \"domain\": [0.0, 1.0], \"title\": {\"text\": \"x\"}}, \"yaxis\": {\"anchor\": \"x\", \"domain\": [0.0, 1.0], \"title\": {\"text\": \"y\"}}},                        {\"responsive\": true}                    ).then(function(){\n",
       "                            \n",
       "var gd = document.getElementById('c90ffd72-1cac-46fe-9f6d-e0cac04c1a3d');\n",
       "var x = new MutationObserver(function (mutations, observer) {{\n",
       "        var display = window.getComputedStyle(gd).display;\n",
       "        if (!display || display === 'none') {{\n",
       "            console.log([gd, 'removed!']);\n",
       "            Plotly.purge(gd);\n",
       "            observer.disconnect();\n",
       "        }}\n",
       "}});\n",
       "\n",
       "// Listen for the removal of the full notebook cells\n",
       "var notebookContainer = gd.closest('#notebook-container');\n",
       "if (notebookContainer) {{\n",
       "    x.observe(notebookContainer, {childList: true});\n",
       "}}\n",
       "\n",
       "// Listen for the clearing of the current output cell\n",
       "var outputEl = gd.closest('.output');\n",
       "if (outputEl) {{\n",
       "    x.observe(outputEl, {childList: true});\n",
       "}}\n",
       "\n",
       "                        })                };                });            </script>        </div>"
      ]
     },
     "metadata": {},
     "output_type": "display_data"
    }
   ],
   "source": [
    "import plotly.express as px\n",
    "fig = px.scatter(x=short_df.dim1, \n",
    "                 y=short_df.dim2,\n",
    "                 color=short_df.entity)\n",
    "fig.show()"
   ]
  },
  {
   "cell_type": "code",
   "execution_count": 90,
   "id": "silent-australian",
   "metadata": {},
   "outputs": [
    {
     "data": {
      "text/plain": [
       "(559, 4)"
      ]
     },
     "execution_count": 90,
     "metadata": {},
     "output_type": "execute_result"
    }
   ],
   "source": [
    "short_df.shape"
   ]
  },
  {
   "cell_type": "code",
   "execution_count": null,
   "id": "received-andrews",
   "metadata": {},
   "outputs": [],
   "source": []
  }
 ],
 "metadata": {
  "kernelspec": {
   "display_name": "Python 3",
   "language": "python",
   "name": "python3"
  },
  "language_info": {
   "codemirror_mode": {
    "name": "ipython",
    "version": 3
   },
   "file_extension": ".py",
   "mimetype": "text/x-python",
   "name": "python",
   "nbconvert_exporter": "python",
   "pygments_lexer": "ipython3",
   "version": "3.7.9"
  }
 },
 "nbformat": 4,
 "nbformat_minor": 5
}
